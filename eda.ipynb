{
 "cells": [
  {
   "cell_type": "code",
   "execution_count": 1,
   "id": "26905c0b-1ad8-4563-984e-ae432aff4324",
   "metadata": {},
   "outputs": [],
   "source": [
    "import kagglehub\n",
    "from kagglehub import KaggleDatasetAdapter"
   ]
  },
  {
   "cell_type": "code",
   "execution_count": 2,
   "id": "91e91eb3-d9c1-44e2-b971-969106cd4111",
   "metadata": {},
   "outputs": [],
   "source": [
    "import polars as pl\n",
    "import polars.selectors as cs\n",
    "import matplotlib.pyplot as plt\n",
    "import seaborn as sns\n",
    "import numpy as np"
   ]
  },
  {
   "cell_type": "code",
   "execution_count": 3,
   "id": "6416bd30-e43c-42d9-b02f-1280c984b151",
   "metadata": {},
   "outputs": [
    {
     "data": {
      "image/svg+xml": [
       "<svg xmlns=\"http://www.w3.org/2000/svg\" xmlns:xlink=\"http://www.w3.org/1999/xlink\" width=\"178pt\" height=\"49pt\" viewBox=\"0.00 0.00 177.75 49.00\">\n",
       "<g id=\"graph0\" class=\"graph\" transform=\"scale(1 1) rotate(0) translate(4 45)\">\n",
       "<title>polars_query</title>\n",
       "<polygon fill=\"white\" stroke=\"none\" points=\"-4,4 -4,-45 173.75,-45 173.75,4 -4,4\"/>\n",
       "<!-- p1 -->\n",
       "<g id=\"node1\" class=\"node\">\n",
       "<title>p1</title>\n",
       "<polygon fill=\"none\" stroke=\"black\" points=\"169.75,-41 0,-41 0,0 169.75,0 169.75,-41\"/>\n",
       "<text text-anchor=\"middle\" x=\"84.88\" y=\"-23.7\" font-family=\"Times New Roman,serif\" font-size=\"14.00\">Csv SCAN [./data/train.csv]</text>\n",
       "<text text-anchor=\"middle\" x=\"84.88\" y=\"-7.2\" font-family=\"Times New Roman,serif\" font-size=\"14.00\">π */12;</text>\n",
       "</g>\n",
       "</g>\n",
       "</svg>"
      ],
      "text/plain": [
       "<IPython.core.display.SVG object>"
      ]
     },
     "metadata": {},
     "output_type": "display_data"
    }
   ],
   "source": [
    "path = './data/train.csv'\n",
    "lf = pl.scan_csv(path)\n",
    "lf.show_graph()"
   ]
  },
  {
   "cell_type": "code",
   "execution_count": 4,
   "id": "622171bd-724f-42ec-be5d-2803a1069741",
   "metadata": {},
   "outputs": [
    {
     "data": {
      "text/html": [
       "<div><style>\n",
       ".dataframe > thead > tr,\n",
       ".dataframe > tbody > tr {\n",
       "  text-align: right;\n",
       "  white-space: pre-wrap;\n",
       "}\n",
       "</style>\n",
       "<small>shape: (5, 12)</small><table border=\"1\" class=\"dataframe\"><thead><tr><th>PassengerId</th><th>Survived</th><th>Pclass</th><th>Name</th><th>Sex</th><th>Age</th><th>SibSp</th><th>Parch</th><th>Ticket</th><th>Fare</th><th>Cabin</th><th>Embarked</th></tr><tr><td>i64</td><td>i64</td><td>i64</td><td>str</td><td>str</td><td>f64</td><td>i64</td><td>i64</td><td>str</td><td>f64</td><td>str</td><td>str</td></tr></thead><tbody><tr><td>1</td><td>0</td><td>3</td><td>&quot;Braund, Mr. Owen Harris&quot;</td><td>&quot;male&quot;</td><td>22.0</td><td>1</td><td>0</td><td>&quot;A/5 21171&quot;</td><td>7.25</td><td>null</td><td>&quot;S&quot;</td></tr><tr><td>2</td><td>1</td><td>1</td><td>&quot;Cumings, Mrs. John Bradley (Fl…</td><td>&quot;female&quot;</td><td>38.0</td><td>1</td><td>0</td><td>&quot;PC 17599&quot;</td><td>71.2833</td><td>&quot;C85&quot;</td><td>&quot;C&quot;</td></tr><tr><td>3</td><td>1</td><td>3</td><td>&quot;Heikkinen, Miss. Laina&quot;</td><td>&quot;female&quot;</td><td>26.0</td><td>0</td><td>0</td><td>&quot;STON/O2. 3101282&quot;</td><td>7.925</td><td>null</td><td>&quot;S&quot;</td></tr><tr><td>4</td><td>1</td><td>1</td><td>&quot;Futrelle, Mrs. Jacques Heath (…</td><td>&quot;female&quot;</td><td>35.0</td><td>1</td><td>0</td><td>&quot;113803&quot;</td><td>53.1</td><td>&quot;C123&quot;</td><td>&quot;S&quot;</td></tr><tr><td>5</td><td>0</td><td>3</td><td>&quot;Allen, Mr. William Henry&quot;</td><td>&quot;male&quot;</td><td>35.0</td><td>0</td><td>0</td><td>&quot;373450&quot;</td><td>8.05</td><td>null</td><td>&quot;S&quot;</td></tr></tbody></table></div>"
      ],
      "text/plain": [
       "shape: (5, 12)\n",
       "┌─────────────┬──────────┬────────┬────────────────────────────────┬───┬──────────────────┬─────────┬───────┬──────────┐\n",
       "│ PassengerId ┆ Survived ┆ Pclass ┆ Name                           ┆ … ┆ Ticket           ┆ Fare    ┆ Cabin ┆ Embarked │\n",
       "│ ---         ┆ ---      ┆ ---    ┆ ---                            ┆   ┆ ---              ┆ ---     ┆ ---   ┆ ---      │\n",
       "│ i64         ┆ i64      ┆ i64    ┆ str                            ┆   ┆ str              ┆ f64     ┆ str   ┆ str      │\n",
       "╞═════════════╪══════════╪════════╪════════════════════════════════╪═══╪══════════════════╪═════════╪═══════╪══════════╡\n",
       "│ 1           ┆ 0        ┆ 3      ┆ Braund, Mr. Owen Harris        ┆ … ┆ A/5 21171        ┆ 7.25    ┆ null  ┆ S        │\n",
       "│ 2           ┆ 1        ┆ 1      ┆ Cumings, Mrs. John Bradley     ┆ … ┆ PC 17599         ┆ 71.2833 ┆ C85   ┆ C        │\n",
       "│             ┆          ┆        ┆ (Fl…                           ┆   ┆                  ┆         ┆       ┆          │\n",
       "│ 3           ┆ 1        ┆ 3      ┆ Heikkinen, Miss. Laina         ┆ … ┆ STON/O2. 3101282 ┆ 7.925   ┆ null  ┆ S        │\n",
       "│ 4           ┆ 1        ┆ 1      ┆ Futrelle, Mrs. Jacques Heath   ┆ … ┆ 113803           ┆ 53.1    ┆ C123  ┆ S        │\n",
       "│             ┆          ┆        ┆ (…                             ┆   ┆                  ┆         ┆       ┆          │\n",
       "│ 5           ┆ 0        ┆ 3      ┆ Allen, Mr. William Henry       ┆ … ┆ 373450           ┆ 8.05    ┆ null  ┆ S        │\n",
       "└─────────────┴──────────┴────────┴────────────────────────────────┴───┴──────────────────┴─────────┴───────┴──────────┘"
      ]
     },
     "execution_count": 4,
     "metadata": {},
     "output_type": "execute_result"
    }
   ],
   "source": [
    "lf.head().collect()"
   ]
  },
  {
   "cell_type": "code",
   "execution_count": 5,
   "id": "47ab40b9-cac4-4652-8aae-00ad1f68cd92",
   "metadata": {},
   "outputs": [
    {
     "data": {
      "text/html": [
       "<div><style>\n",
       ".dataframe > thead > tr,\n",
       ".dataframe > tbody > tr {\n",
       "  text-align: right;\n",
       "  white-space: pre-wrap;\n",
       "}\n",
       "</style>\n",
       "<small>shape: (9, 13)</small><table border=\"1\" class=\"dataframe\"><thead><tr><th>statistic</th><th>PassengerId</th><th>Survived</th><th>Pclass</th><th>Name</th><th>Sex</th><th>Age</th><th>SibSp</th><th>Parch</th><th>Ticket</th><th>Fare</th><th>Cabin</th><th>Embarked</th></tr><tr><td>str</td><td>f64</td><td>f64</td><td>f64</td><td>str</td><td>str</td><td>f64</td><td>f64</td><td>f64</td><td>str</td><td>f64</td><td>str</td><td>str</td></tr></thead><tbody><tr><td>&quot;count&quot;</td><td>891.0</td><td>891.0</td><td>891.0</td><td>&quot;891&quot;</td><td>&quot;891&quot;</td><td>714.0</td><td>891.0</td><td>891.0</td><td>&quot;891&quot;</td><td>891.0</td><td>&quot;204&quot;</td><td>&quot;889&quot;</td></tr><tr><td>&quot;null_count&quot;</td><td>0.0</td><td>0.0</td><td>0.0</td><td>&quot;0&quot;</td><td>&quot;0&quot;</td><td>177.0</td><td>0.0</td><td>0.0</td><td>&quot;0&quot;</td><td>0.0</td><td>&quot;687&quot;</td><td>&quot;2&quot;</td></tr><tr><td>&quot;mean&quot;</td><td>446.0</td><td>0.383838</td><td>2.308642</td><td>null</td><td>null</td><td>29.699118</td><td>0.523008</td><td>0.381594</td><td>null</td><td>32.204208</td><td>null</td><td>null</td></tr><tr><td>&quot;std&quot;</td><td>257.353842</td><td>0.486592</td><td>0.836071</td><td>null</td><td>null</td><td>14.526497</td><td>1.102743</td><td>0.806057</td><td>null</td><td>49.693429</td><td>null</td><td>null</td></tr><tr><td>&quot;min&quot;</td><td>1.0</td><td>0.0</td><td>1.0</td><td>&quot;Abbing, Mr. Anthony&quot;</td><td>&quot;female&quot;</td><td>0.42</td><td>0.0</td><td>0.0</td><td>&quot;110152&quot;</td><td>0.0</td><td>&quot;A10&quot;</td><td>&quot;C&quot;</td></tr><tr><td>&quot;25%&quot;</td><td>224.0</td><td>0.0</td><td>2.0</td><td>null</td><td>null</td><td>20.0</td><td>0.0</td><td>0.0</td><td>null</td><td>7.925</td><td>null</td><td>null</td></tr><tr><td>&quot;50%&quot;</td><td>446.0</td><td>0.0</td><td>3.0</td><td>null</td><td>null</td><td>28.0</td><td>0.0</td><td>0.0</td><td>null</td><td>14.4542</td><td>null</td><td>null</td></tr><tr><td>&quot;75%&quot;</td><td>669.0</td><td>1.0</td><td>3.0</td><td>null</td><td>null</td><td>38.0</td><td>1.0</td><td>0.0</td><td>null</td><td>31.0</td><td>null</td><td>null</td></tr><tr><td>&quot;max&quot;</td><td>891.0</td><td>1.0</td><td>3.0</td><td>&quot;van Melkebeke, Mr. Philemon&quot;</td><td>&quot;male&quot;</td><td>80.0</td><td>8.0</td><td>6.0</td><td>&quot;WE/P 5735&quot;</td><td>512.3292</td><td>&quot;T&quot;</td><td>&quot;S&quot;</td></tr></tbody></table></div>"
      ],
      "text/plain": [
       "shape: (9, 13)\n",
       "┌────────────┬─────────────┬──────────┬──────────┬───┬───────────┬───────────┬───────┬──────────┐\n",
       "│ statistic  ┆ PassengerId ┆ Survived ┆ Pclass   ┆ … ┆ Ticket    ┆ Fare      ┆ Cabin ┆ Embarked │\n",
       "│ ---        ┆ ---         ┆ ---      ┆ ---      ┆   ┆ ---       ┆ ---       ┆ ---   ┆ ---      │\n",
       "│ str        ┆ f64         ┆ f64      ┆ f64      ┆   ┆ str       ┆ f64       ┆ str   ┆ str      │\n",
       "╞════════════╪═════════════╪══════════╪══════════╪═══╪═══════════╪═══════════╪═══════╪══════════╡\n",
       "│ count      ┆ 891.0       ┆ 891.0    ┆ 891.0    ┆ … ┆ 891       ┆ 891.0     ┆ 204   ┆ 889      │\n",
       "│ null_count ┆ 0.0         ┆ 0.0      ┆ 0.0      ┆ … ┆ 0         ┆ 0.0       ┆ 687   ┆ 2        │\n",
       "│ mean       ┆ 446.0       ┆ 0.383838 ┆ 2.308642 ┆ … ┆ null      ┆ 32.204208 ┆ null  ┆ null     │\n",
       "│ std        ┆ 257.353842  ┆ 0.486592 ┆ 0.836071 ┆ … ┆ null      ┆ 49.693429 ┆ null  ┆ null     │\n",
       "│ min        ┆ 1.0         ┆ 0.0      ┆ 1.0      ┆ … ┆ 110152    ┆ 0.0       ┆ A10   ┆ C        │\n",
       "│ 25%        ┆ 224.0       ┆ 0.0      ┆ 2.0      ┆ … ┆ null      ┆ 7.925     ┆ null  ┆ null     │\n",
       "│ 50%        ┆ 446.0       ┆ 0.0      ┆ 3.0      ┆ … ┆ null      ┆ 14.4542   ┆ null  ┆ null     │\n",
       "│ 75%        ┆ 669.0       ┆ 1.0      ┆ 3.0      ┆ … ┆ null      ┆ 31.0      ┆ null  ┆ null     │\n",
       "│ max        ┆ 891.0       ┆ 1.0      ┆ 3.0      ┆ … ┆ WE/P 5735 ┆ 512.3292  ┆ T     ┆ S        │\n",
       "└────────────┴─────────────┴──────────┴──────────┴───┴───────────┴───────────┴───────┴──────────┘"
      ]
     },
     "execution_count": 5,
     "metadata": {},
     "output_type": "execute_result"
    }
   ],
   "source": [
    "lf.describe()"
   ]
  },
  {
   "cell_type": "code",
   "execution_count": 6,
   "id": "8a1812f7-1e57-4dc6-a377-a869643c0aa6",
   "metadata": {},
   "outputs": [
    {
     "data": {
      "text/html": [
       "<div><style>\n",
       ".dataframe > thead > tr,\n",
       ".dataframe > tbody > tr {\n",
       "  text-align: right;\n",
       "  white-space: pre-wrap;\n",
       "}\n",
       "</style>\n",
       "<small>shape: (1, 12)</small><table border=\"1\" class=\"dataframe\"><thead><tr><th>PassengerId</th><th>Survived</th><th>Pclass</th><th>Name</th><th>Sex</th><th>Age</th><th>SibSp</th><th>Parch</th><th>Ticket</th><th>Fare</th><th>Cabin</th><th>Embarked</th></tr><tr><td>u32</td><td>u32</td><td>u32</td><td>u32</td><td>u32</td><td>u32</td><td>u32</td><td>u32</td><td>u32</td><td>u32</td><td>u32</td><td>u32</td></tr></thead><tbody><tr><td>891</td><td>2</td><td>3</td><td>891</td><td>2</td><td>89</td><td>7</td><td>7</td><td>681</td><td>248</td><td>148</td><td>4</td></tr></tbody></table></div>"
      ],
      "text/plain": [
       "shape: (1, 12)\n",
       "┌─────────────┬──────────┬────────┬──────┬───┬────────┬──────┬───────┬──────────┐\n",
       "│ PassengerId ┆ Survived ┆ Pclass ┆ Name ┆ … ┆ Ticket ┆ Fare ┆ Cabin ┆ Embarked │\n",
       "│ ---         ┆ ---      ┆ ---    ┆ ---  ┆   ┆ ---    ┆ ---  ┆ ---   ┆ ---      │\n",
       "│ u32         ┆ u32      ┆ u32    ┆ u32  ┆   ┆ u32    ┆ u32  ┆ u32   ┆ u32      │\n",
       "╞═════════════╪══════════╪════════╪══════╪═══╪════════╪══════╪═══════╪══════════╡\n",
       "│ 891         ┆ 2        ┆ 3      ┆ 891  ┆ … ┆ 681    ┆ 248  ┆ 148   ┆ 4        │\n",
       "└─────────────┴──────────┴────────┴──────┴───┴────────┴──────┴───────┴──────────┘"
      ]
     },
     "execution_count": 6,
     "metadata": {},
     "output_type": "execute_result"
    }
   ],
   "source": [
    "lf.select(cs.all().n_unique()).collect()"
   ]
  },
  {
   "cell_type": "code",
   "execution_count": 7,
   "id": "c0a45f0b-ac4b-4bce-8d57-71d9b66a8897",
   "metadata": {},
   "outputs": [
    {
     "data": {
      "text/plain": [
       "Schema([('Survived', Int64),\n",
       "        ('Pclass', Int64),\n",
       "        ('Sex', String),\n",
       "        ('Age', Float64),\n",
       "        ('SibSp', Int64),\n",
       "        ('Parch', Int64),\n",
       "        ('Fare', Float64),\n",
       "        ('Embarked', String)])"
      ]
     },
     "execution_count": 7,
     "metadata": {},
     "output_type": "execute_result"
    }
   ],
   "source": [
    "lf = lf.drop('PassengerId', 'Ticket', 'Cabin', 'Name', strict=False)\n",
    "lf.collect_schema()"
   ]
  },
  {
   "cell_type": "code",
   "execution_count": 8,
   "id": "e1dd3a7f-4995-49e9-ab35-2d33f1bb5c83",
   "metadata": {},
   "outputs": [],
   "source": [
    "lf = lf.rename({name: name.lower() for name in lf.collect_schema().names()})"
   ]
  },
  {
   "cell_type": "code",
   "execution_count": 9,
   "id": "3e90d53f-937d-4ca8-86fa-06846235dbfe",
   "metadata": {},
   "outputs": [
    {
     "data": {
      "text/html": [
       "<div><style>\n",
       ".dataframe > thead > tr,\n",
       ".dataframe > tbody > tr {\n",
       "  text-align: right;\n",
       "  white-space: pre-wrap;\n",
       "}\n",
       "</style>\n",
       "<small>shape: (5, 8)</small><table border=\"1\" class=\"dataframe\"><thead><tr><th>survived</th><th>pclass</th><th>sex</th><th>age</th><th>sibsp</th><th>parch</th><th>fare</th><th>embarked</th></tr><tr><td>i64</td><td>i64</td><td>str</td><td>f64</td><td>i64</td><td>i64</td><td>f64</td><td>str</td></tr></thead><tbody><tr><td>0</td><td>3</td><td>&quot;male&quot;</td><td>22.0</td><td>1</td><td>0</td><td>7.25</td><td>&quot;S&quot;</td></tr><tr><td>1</td><td>1</td><td>&quot;female&quot;</td><td>38.0</td><td>1</td><td>0</td><td>71.2833</td><td>&quot;C&quot;</td></tr><tr><td>1</td><td>3</td><td>&quot;female&quot;</td><td>26.0</td><td>0</td><td>0</td><td>7.925</td><td>&quot;S&quot;</td></tr><tr><td>1</td><td>1</td><td>&quot;female&quot;</td><td>35.0</td><td>1</td><td>0</td><td>53.1</td><td>&quot;S&quot;</td></tr><tr><td>0</td><td>3</td><td>&quot;male&quot;</td><td>35.0</td><td>0</td><td>0</td><td>8.05</td><td>&quot;S&quot;</td></tr></tbody></table></div>"
      ],
      "text/plain": [
       "shape: (5, 8)\n",
       "┌──────────┬────────┬────────┬──────┬───────┬───────┬─────────┬──────────┐\n",
       "│ survived ┆ pclass ┆ sex    ┆ age  ┆ sibsp ┆ parch ┆ fare    ┆ embarked │\n",
       "│ ---      ┆ ---    ┆ ---    ┆ ---  ┆ ---   ┆ ---   ┆ ---     ┆ ---      │\n",
       "│ i64      ┆ i64    ┆ str    ┆ f64  ┆ i64   ┆ i64   ┆ f64     ┆ str      │\n",
       "╞══════════╪════════╪════════╪══════╪═══════╪═══════╪═════════╪══════════╡\n",
       "│ 0        ┆ 3      ┆ male   ┆ 22.0 ┆ 1     ┆ 0     ┆ 7.25    ┆ S        │\n",
       "│ 1        ┆ 1      ┆ female ┆ 38.0 ┆ 1     ┆ 0     ┆ 71.2833 ┆ C        │\n",
       "│ 1        ┆ 3      ┆ female ┆ 26.0 ┆ 0     ┆ 0     ┆ 7.925   ┆ S        │\n",
       "│ 1        ┆ 1      ┆ female ┆ 35.0 ┆ 1     ┆ 0     ┆ 53.1    ┆ S        │\n",
       "│ 0        ┆ 3      ┆ male   ┆ 35.0 ┆ 0     ┆ 0     ┆ 8.05    ┆ S        │\n",
       "└──────────┴────────┴────────┴──────┴───────┴───────┴─────────┴──────────┘"
      ]
     },
     "execution_count": 9,
     "metadata": {},
     "output_type": "execute_result"
    }
   ],
   "source": [
    "lf.head().collect()"
   ]
  },
  {
   "cell_type": "code",
   "execution_count": 10,
   "id": "13fbf158-7f83-4c8e-a282-222da5e49521",
   "metadata": {
    "scrolled": true
   },
   "outputs": [
    {
     "data": {
      "text/plain": [
       "Schema([('survived', Int8),\n",
       "        ('pclass', Int8),\n",
       "        ('sex', String),\n",
       "        ('age', Float64),\n",
       "        ('sibsp', Int8),\n",
       "        ('parch', Int8),\n",
       "        ('fare', Float64),\n",
       "        ('embarked', String)])"
      ]
     },
     "execution_count": 10,
     "metadata": {},
     "output_type": "execute_result"
    }
   ],
   "source": [
    "lf = lf.with_columns(\n",
    "    pl.col('survived').cast(pl.Int8),\n",
    "    pl.col('pclass').cast(pl.Int8),\n",
    "    pl.col('sibsp').cast(pl.Int8),\n",
    "    pl.col('parch').cast(pl.Int8)\n",
    ")\n",
    "lf.collect_schema()"
   ]
  },
  {
   "cell_type": "code",
   "execution_count": 11,
   "id": "be6bad81-0665-4c08-8ed3-a24e19fabc57",
   "metadata": {
    "scrolled": true
   },
   "outputs": [
    {
     "name": "stdout",
     "output_type": "stream",
     "text": [
      "Гистограммы распределений признаков\n"
     ]
    },
    {
     "data": {
      "image/png": "[encoded data removed]",
      "text/plain": [
       "<Figure size 300x2400 with 8 Axes>"
      ]
     },
     "metadata": {},
     "output_type": "display_data"
    }
   ],
   "source": [
    "cols = lf.collect_schema().names()\n",
    "fig, axs = plt.subplots(nrows=len(cols), figsize=(3, len(cols) * 3))\n",
    "for col, ax in zip(cols, axs):\n",
    "    \n",
    "    ax.hist(lf.select(pl.col(col)).drop_nulls().collect(), bins='auto')\n",
    "    ax.set_xlabel(col)\n",
    "\n",
    "fig.subplots_adjust()\n",
    "print('Гистограммы распределений признаков')"
   ]
  },
  {
   "cell_type": "code",
   "execution_count": 12,
   "id": "dd394167-c2a5-4ee9-9187-c675501a1642",
   "metadata": {},
   "outputs": [
    {
     "name": "stdout",
     "output_type": "stream",
     "text": [
      "Гистограммы распределений признаков по категории survived\n"
     ]
    },
    {
     "data": {
      "image/png": "[encoded data removed]",
      "text/plain": [
       "<Figure size 300x2100 with 7 Axes>"
      ]
     },
     "metadata": {},
     "output_type": "display_data"
    }
   ],
   "source": [
    "cols = lf.drop('survived').collect_schema().names()\n",
    "fig, axs = plt.subplots(nrows=len(cols), figsize=(3, len(cols) * 3))\n",
    "for col, ax in zip(cols, axs):\n",
    "    ax.hist((lf.filter(pl.col('survived') == 0).select(pl.col(col)).drop_nulls().collect().to_numpy().flatten(),\n",
    "            lf.filter(pl.col('survived') == 1).select(pl.col(col)).drop_nulls().collect().to_numpy().flatten()),\n",
    "            bins='auto', stacked=True, density=True)\n",
    "    ax.set_xlabel(col)\n",
    "\n",
    "fig.subplots_adjust()\n",
    "print('Гистограммы распределений признаков по категории survived')"
   ]
  },
  {
   "cell_type": "markdown",
   "id": "42e64223-6baf-4a88-ae99-c2642cb65d6b",
   "metadata": {},
   "source": [
    "Удалим выбросы при помощи IQR"
   ]
  },
  {
   "cell_type": "code",
   "execution_count": 13,
   "id": "d6357ee0-251b-48ec-a2f4-51ec28dd77a1",
   "metadata": {},
   "outputs": [
    {
     "name": "stdout",
     "output_type": "stream",
     "text": [
      "Боксплоты выборосов\n"
     ]
    },
    {
     "data": {
      "image/png": "[encoded data removed]",
      "text/plain": [
       "<Figure size 600x600 with 6 Axes>"
      ]
     },
     "metadata": {},
     "output_type": "display_data"
    }
   ],
   "source": [
    "cols = lf.select(cs.numeric()).collect_schema().names()\n",
    "fig, axs = plt.subplots(nrows=int(np.sqrt(len(cols))),\n",
    "                        ncols=int(np.sqrt(len(cols))) + 1,\n",
    "                        figsize=(len(cols), len(cols)))\n",
    "for col, ax in zip(cols, axs.flatten()):\n",
    "    ax.boxplot(lf.select(pl.col(col)).collect().drop_nulls().to_numpy().flatten())\n",
    "    ax.set_xlabel(col)\n",
    "\n",
    "fig.subplots_adjust()\n",
    "print('Боксплоты выборосов')"
   ]
  },
  {
   "cell_type": "code",
   "execution_count": 14,
   "id": "a060b020-07f9-4784-baf4-05ac24b39613",
   "metadata": {},
   "outputs": [
    {
     "data": {
      "text/html": [
       "<div><style>\n",
       ".dataframe > thead > tr,\n",
       ".dataframe > tbody > tr {\n",
       "  text-align: right;\n",
       "  white-space: pre-wrap;\n",
       "}\n",
       "</style>\n",
       "<small>shape: (3, 8)</small><table border=\"1\" class=\"dataframe\"><thead><tr><th>survived</th><th>pclass</th><th>sex</th><th>age</th><th>sibsp</th><th>parch</th><th>fare</th><th>embarked</th></tr><tr><td>i8</td><td>i8</td><td>str</td><td>f64</td><td>i8</td><td>i8</td><td>f64</td><td>str</td></tr></thead><tbody><tr><td>1</td><td>1</td><td>&quot;female&quot;</td><td>35.0</td><td>0</td><td>0</td><td>512.3292</td><td>&quot;C&quot;</td></tr><tr><td>1</td><td>1</td><td>&quot;male&quot;</td><td>36.0</td><td>0</td><td>1</td><td>512.3292</td><td>&quot;C&quot;</td></tr><tr><td>1</td><td>1</td><td>&quot;male&quot;</td><td>35.0</td><td>0</td><td>0</td><td>512.3292</td><td>&quot;C&quot;</td></tr></tbody></table></div>"
      ],
      "text/plain": [
       "shape: (3, 8)\n",
       "┌──────────┬────────┬────────┬──────┬───────┬───────┬──────────┬──────────┐\n",
       "│ survived ┆ pclass ┆ sex    ┆ age  ┆ sibsp ┆ parch ┆ fare     ┆ embarked │\n",
       "│ ---      ┆ ---    ┆ ---    ┆ ---  ┆ ---   ┆ ---   ┆ ---      ┆ ---      │\n",
       "│ i8       ┆ i8     ┆ str    ┆ f64  ┆ i8    ┆ i8    ┆ f64      ┆ str      │\n",
       "╞══════════╪════════╪════════╪══════╪═══════╪═══════╪══════════╪══════════╡\n",
       "│ 1        ┆ 1      ┆ female ┆ 35.0 ┆ 0     ┆ 0     ┆ 512.3292 ┆ C        │\n",
       "│ 1        ┆ 1      ┆ male   ┆ 36.0 ┆ 0     ┆ 1     ┆ 512.3292 ┆ C        │\n",
       "│ 1        ┆ 1      ┆ male   ┆ 35.0 ┆ 0     ┆ 0     ┆ 512.3292 ┆ C        │\n",
       "└──────────┴────────┴────────┴──────┴───────┴───────┴──────────┴──────────┘"
      ]
     },
     "execution_count": 14,
     "metadata": {},
     "output_type": "execute_result"
    }
   ],
   "source": [
    "lf.filter(pl.col('fare') > 400).collect()"
   ]
  },
  {
   "cell_type": "code",
   "execution_count": 15,
   "id": "2eda02de-5271-44d2-9867-6a9b2ab01a5b",
   "metadata": {},
   "outputs": [
    {
     "data": {
      "text/html": [
       "<div><style>\n",
       ".dataframe > thead > tr,\n",
       ".dataframe > tbody > tr {\n",
       "  text-align: right;\n",
       "  white-space: pre-wrap;\n",
       "}\n",
       "</style>\n",
       "<small>shape: (7, 8)</small><table border=\"1\" class=\"dataframe\"><thead><tr><th>survived</th><th>pclass</th><th>sex</th><th>age</th><th>sibsp</th><th>parch</th><th>fare</th><th>embarked</th></tr><tr><td>i8</td><td>i8</td><td>str</td><td>f64</td><td>i8</td><td>i8</td><td>f64</td><td>str</td></tr></thead><tbody><tr><td>0</td><td>3</td><td>&quot;male&quot;</td><td>null</td><td>8</td><td>2</td><td>69.55</td><td>&quot;S&quot;</td></tr><tr><td>0</td><td>3</td><td>&quot;female&quot;</td><td>null</td><td>8</td><td>2</td><td>69.55</td><td>&quot;S&quot;</td></tr><tr><td>0</td><td>3</td><td>&quot;male&quot;</td><td>null</td><td>8</td><td>2</td><td>69.55</td><td>&quot;S&quot;</td></tr><tr><td>0</td><td>3</td><td>&quot;male&quot;</td><td>null</td><td>8</td><td>2</td><td>69.55</td><td>&quot;S&quot;</td></tr><tr><td>0</td><td>3</td><td>&quot;female&quot;</td><td>null</td><td>8</td><td>2</td><td>69.55</td><td>&quot;S&quot;</td></tr><tr><td>0</td><td>3</td><td>&quot;male&quot;</td><td>null</td><td>8</td><td>2</td><td>69.55</td><td>&quot;S&quot;</td></tr><tr><td>0</td><td>3</td><td>&quot;female&quot;</td><td>null</td><td>8</td><td>2</td><td>69.55</td><td>&quot;S&quot;</td></tr></tbody></table></div>"
      ],
      "text/plain": [
       "shape: (7, 8)\n",
       "┌──────────┬────────┬────────┬──────┬───────┬───────┬───────┬──────────┐\n",
       "│ survived ┆ pclass ┆ sex    ┆ age  ┆ sibsp ┆ parch ┆ fare  ┆ embarked │\n",
       "│ ---      ┆ ---    ┆ ---    ┆ ---  ┆ ---   ┆ ---   ┆ ---   ┆ ---      │\n",
       "│ i8       ┆ i8     ┆ str    ┆ f64  ┆ i8    ┆ i8    ┆ f64   ┆ str      │\n",
       "╞══════════╪════════╪════════╪══════╪═══════╪═══════╪═══════╪══════════╡\n",
       "│ 0        ┆ 3      ┆ male   ┆ null ┆ 8     ┆ 2     ┆ 69.55 ┆ S        │\n",
       "│ 0        ┆ 3      ┆ female ┆ null ┆ 8     ┆ 2     ┆ 69.55 ┆ S        │\n",
       "│ 0        ┆ 3      ┆ male   ┆ null ┆ 8     ┆ 2     ┆ 69.55 ┆ S        │\n",
       "│ 0        ┆ 3      ┆ male   ┆ null ┆ 8     ┆ 2     ┆ 69.55 ┆ S        │\n",
       "│ 0        ┆ 3      ┆ female ┆ null ┆ 8     ┆ 2     ┆ 69.55 ┆ S        │\n",
       "│ 0        ┆ 3      ┆ male   ┆ null ┆ 8     ┆ 2     ┆ 69.55 ┆ S        │\n",
       "│ 0        ┆ 3      ┆ female ┆ null ┆ 8     ┆ 2     ┆ 69.55 ┆ S        │\n",
       "└──────────┴────────┴────────┴──────┴───────┴───────┴───────┴──────────┘"
      ]
     },
     "execution_count": 15,
     "metadata": {},
     "output_type": "execute_result"
    }
   ],
   "source": [
    "lf.filter((pl.col('sibsp') > 6) | (pl.col('parch') > 6)).collect()"
   ]
  },
  {
   "cell_type": "code",
   "execution_count": 16,
   "id": "dca3a567-d17c-44aa-acfd-3707711fcdd6",
   "metadata": {},
   "outputs": [
    {
     "data": {
      "text/html": [
       "<div><style>\n",
       ".dataframe > thead > tr,\n",
       ".dataframe > tbody > tr {\n",
       "  text-align: right;\n",
       "  white-space: pre-wrap;\n",
       "}\n",
       "</style>\n",
       "<small>shape: (40, 8)</small><table border=\"1\" class=\"dataframe\"><thead><tr><th>survived</th><th>pclass</th><th>sex</th><th>age</th><th>sibsp</th><th>parch</th><th>fare</th><th>embarked</th></tr><tr><td>i8</td><td>i8</td><td>str</td><td>f64</td><td>i8</td><td>i8</td><td>f64</td><td>str</td></tr></thead><tbody><tr><td>0</td><td>3</td><td>&quot;male&quot;</td><td>39.0</td><td>1</td><td>5</td><td>31.275</td><td>&quot;S&quot;</td></tr><tr><td>0</td><td>3</td><td>&quot;male&quot;</td><td>2.0</td><td>4</td><td>1</td><td>29.125</td><td>&quot;Q&quot;</td></tr><tr><td>1</td><td>3</td><td>&quot;female&quot;</td><td>38.0</td><td>1</td><td>5</td><td>31.3875</td><td>&quot;S&quot;</td></tr><tr><td>0</td><td>3</td><td>&quot;male&quot;</td><td>7.0</td><td>4</td><td>1</td><td>39.6875</td><td>&quot;S&quot;</td></tr><tr><td>0</td><td>3</td><td>&quot;male&quot;</td><td>11.0</td><td>5</td><td>2</td><td>46.9</td><td>&quot;S&quot;</td></tr><tr><td>&hellip;</td><td>&hellip;</td><td>&hellip;</td><td>&hellip;</td><td>&hellip;</td><td>&hellip;</td><td>&hellip;</td><td>&hellip;</td></tr><tr><td>0</td><td>3</td><td>&quot;male&quot;</td><td>2.0</td><td>4</td><td>1</td><td>39.6875</td><td>&quot;S&quot;</td></tr><tr><td>0</td><td>3</td><td>&quot;male&quot;</td><td>null</td><td>8</td><td>2</td><td>69.55</td><td>&quot;S&quot;</td></tr><tr><td>0</td><td>3</td><td>&quot;male&quot;</td><td>4.0</td><td>4</td><td>2</td><td>31.275</td><td>&quot;S&quot;</td></tr><tr><td>0</td><td>3</td><td>&quot;female&quot;</td><td>null</td><td>8</td><td>2</td><td>69.55</td><td>&quot;S&quot;</td></tr><tr><td>0</td><td>3</td><td>&quot;female&quot;</td><td>39.0</td><td>0</td><td>5</td><td>29.125</td><td>&quot;Q&quot;</td></tr></tbody></table></div>"
      ],
      "text/plain": [
       "shape: (40, 8)\n",
       "┌──────────┬────────┬────────┬──────┬───────┬───────┬─────────┬──────────┐\n",
       "│ survived ┆ pclass ┆ sex    ┆ age  ┆ sibsp ┆ parch ┆ fare    ┆ embarked │\n",
       "│ ---      ┆ ---    ┆ ---    ┆ ---  ┆ ---   ┆ ---   ┆ ---     ┆ ---      │\n",
       "│ i8       ┆ i8     ┆ str    ┆ f64  ┆ i8    ┆ i8    ┆ f64     ┆ str      │\n",
       "╞══════════╪════════╪════════╪══════╪═══════╪═══════╪═════════╪══════════╡\n",
       "│ 0        ┆ 3      ┆ male   ┆ 39.0 ┆ 1     ┆ 5     ┆ 31.275  ┆ S        │\n",
       "│ 0        ┆ 3      ┆ male   ┆ 2.0  ┆ 4     ┆ 1     ┆ 29.125  ┆ Q        │\n",
       "│ 1        ┆ 3      ┆ female ┆ 38.0 ┆ 1     ┆ 5     ┆ 31.3875 ┆ S        │\n",
       "│ 0        ┆ 3      ┆ male   ┆ 7.0  ┆ 4     ┆ 1     ┆ 39.6875 ┆ S        │\n",
       "│ 0        ┆ 3      ┆ male   ┆ 11.0 ┆ 5     ┆ 2     ┆ 46.9    ┆ S        │\n",
       "│ …        ┆ …      ┆ …      ┆ …    ┆ …     ┆ …     ┆ …       ┆ …        │\n",
       "│ 0        ┆ 3      ┆ male   ┆ 2.0  ┆ 4     ┆ 1     ┆ 39.6875 ┆ S        │\n",
       "│ 0        ┆ 3      ┆ male   ┆ null ┆ 8     ┆ 2     ┆ 69.55   ┆ S        │\n",
       "│ 0        ┆ 3      ┆ male   ┆ 4.0  ┆ 4     ┆ 2     ┆ 31.275  ┆ S        │\n",
       "│ 0        ┆ 3      ┆ female ┆ null ┆ 8     ┆ 2     ┆ 69.55   ┆ S        │\n",
       "│ 0        ┆ 3      ┆ female ┆ 39.0 ┆ 0     ┆ 5     ┆ 29.125  ┆ Q        │\n",
       "└──────────┴────────┴────────┴──────┴───────┴───────┴─────────┴──────────┘"
      ]
     },
     "execution_count": 16,
     "metadata": {},
     "output_type": "execute_result"
    }
   ],
   "source": [
    "lf.filter((pl.col('sibsp') > 3) | (pl.col('parch') > 3)).collect()"
   ]
  },
  {
   "cell_type": "code",
   "execution_count": 17,
   "id": "620457be-db8f-405f-be09-99752bb2ce86",
   "metadata": {},
   "outputs": [],
   "source": [
    "def calc_boundaries(arr: np.ndarray) -> tuple[float, float]:\n",
    "    q75 = np.quantile(arr, 0.75)\n",
    "    q25 = np.quantile(arr, 0.25)\n",
    "    iqr = q75 - q25\n",
    "    return(q25 - 1.5 * iqr, q75 + 1.5 * iqr)"
   ]
  },
  {
   "cell_type": "code",
   "execution_count": 18,
   "id": "1bf557df-541f-41e5-8f42-c5b0b8145cb4",
   "metadata": {},
   "outputs": [],
   "source": [
    "lf_eda = lf.drop_nulls()"
   ]
  },
  {
   "cell_type": "code",
   "execution_count": 19,
   "id": "d5cf473f-b277-4bc3-83f2-212f0bdab574",
   "metadata": {},
   "outputs": [
    {
     "name": "stdout",
     "output_type": "stream",
     "text": [
      "Outliers ratio\n"
     ]
    },
    {
     "data": {
      "text/html": [
       "<div><style>\n",
       ".dataframe > thead > tr,\n",
       ".dataframe > tbody > tr {\n",
       "  text-align: right;\n",
       "  white-space: pre-wrap;\n",
       "}\n",
       "</style>\n",
       "<small>shape: (1, 6)</small><table border=\"1\" class=\"dataframe\"><thead><tr><th>survived</th><th>pclass</th><th>age</th><th>sibsp</th><th>parch</th><th>fare</th></tr><tr><td>f64</td><td>f64</td><td>f64</td><td>f64</td><td>f64</td><td>f64</td></tr></thead><tbody><tr><td>0.0</td><td>0.0</td><td>1.123596</td><td>4.91573</td><td>2.106742</td><td>13.342697</td></tr></tbody></table></div>"
      ],
      "text/plain": [
       "shape: (1, 6)\n",
       "┌──────────┬────────┬──────────┬─────────┬──────────┬───────────┐\n",
       "│ survived ┆ pclass ┆ age      ┆ sibsp   ┆ parch    ┆ fare      │\n",
       "│ ---      ┆ ---    ┆ ---      ┆ ---     ┆ ---      ┆ ---       │\n",
       "│ f64      ┆ f64    ┆ f64      ┆ f64     ┆ f64      ┆ f64       │\n",
       "╞══════════╪════════╪══════════╪═════════╪══════════╪═══════════╡\n",
       "│ 0.0      ┆ 0.0    ┆ 1.123596 ┆ 4.91573 ┆ 2.106742 ┆ 13.342697 │\n",
       "└──────────┴────────┴──────────┴─────────┴──────────┴───────────┘"
      ]
     },
     "execution_count": 19,
     "metadata": {},
     "output_type": "execute_result"
    }
   ],
   "source": [
    "cols = lf_eda.select(cs.numeric()).collect_schema().names()\n",
    "outliers_ratio = []\n",
    "for col in cols:\n",
    "    bounds = calc_boundaries(lf_eda.select(pl.col(col)).collect().to_numpy().flatten())\n",
    "    outliers_count = lf_eda.filter((pl.col(col) < bounds[0]) | (pl.col(col) > bounds[1])).select(pl.count(col)).collect()\n",
    "    full_count = lf_eda.select(pl.count(col)).collect()\n",
    "    outliers_ratio.append(outliers_count / full_count * 100)\n",
    "\n",
    "print('Outliers ratio')\n",
    "pl.DataFrame({name: val for name, val in zip(cols, outliers_ratio)})     "
   ]
  },
  {
   "cell_type": "code",
   "execution_count": 20,
   "id": "3fa5b91b-faa6-4b84-8aa1-5f72db03a4f2",
   "metadata": {},
   "outputs": [],
   "source": [
    "def clip_outliers(s: pl.Series) -> pl.Series:\n",
    "    arr = s.to_numpy()\n",
    "    bounds = calc_boundaries(arr)\n",
    "    return pl.Series(np.clip(arr, bounds[0], bounds[1]))"
   ]
  },
  {
   "cell_type": "code",
   "execution_count": 21,
   "id": "10c9388f-a4b5-4bc6-947c-b2aae92beab5",
   "metadata": {},
   "outputs": [],
   "source": [
    "lf = lf.with_columns(\n",
    "    cs.numeric().exclude('fare').clip(\n",
    "        cs.numeric().quantile(0.25) - 1.5 * (cs.numeric().quantile(0.75) - cs.numeric().quantile(0.25)),\n",
    "        cs.numeric().quantile(0.75) + 1.5 * (cs.numeric().quantile(0.75) - cs.numeric().quantile(0.25))\n",
    "    ),\n",
    "    pl.col('fare').clip(\n",
    "        pl.col('fare').quantile(0.25) - 1.5 * (pl.col('fare').quantile(0.75) - pl.col('fare').quantile(0.25)),\n",
    "        pl.col('fare').quantile(0.75) + 4 * (pl.col('fare').quantile(0.75) - pl.col('fare').quantile(0.25)),\n",
    "    )\n",
    ")"
   ]
  },
  {
   "cell_type": "code",
   "execution_count": 22,
   "id": "20705ab9-8f10-4e98-aa71-839aba1d2c12",
   "metadata": {},
   "outputs": [
    {
     "data": {
      "text/plain": [
       "Schema([('survived', Int8),\n",
       "        ('pclass', Int8),\n",
       "        ('sex', String),\n",
       "        ('age', Float64),\n",
       "        ('sibsp', Int8),\n",
       "        ('parch', Int8),\n",
       "        ('fare', Float64),\n",
       "        ('embarked', String)])"
      ]
     },
     "execution_count": 22,
     "metadata": {},
     "output_type": "execute_result"
    }
   ],
   "source": [
    "lf.collect_schema()"
   ]
  },
  {
   "cell_type": "code",
   "execution_count": 23,
   "id": "afcc0193-6916-4b09-a52f-482f23c19f37",
   "metadata": {},
   "outputs": [
    {
     "name": "stdout",
     "output_type": "stream",
     "text": [
      "Боксплоты выборосов\n"
     ]
    },
    {
     "data": {
      "image/png": "[encoded data removed]",
      "text/plain": [
       "<Figure size 600x600 with 6 Axes>"
      ]
     },
     "metadata": {},
     "output_type": "display_data"
    }
   ],
   "source": [
    "cols = lf.select(cs.numeric()).collect_schema().names()\n",
    "fig, axs = plt.subplots(nrows=int(np.sqrt(len(cols))),\n",
    "                        ncols=int(np.sqrt(len(cols))) + 1,\n",
    "                        figsize=(len(cols), len(cols)))\n",
    "for col, ax in zip(cols, axs.flatten()):\n",
    "    ax.boxplot(lf.select(pl.col(col)).collect().drop_nulls().to_numpy().flatten())\n",
    "    ax.set_xlabel(col)\n",
    "fig.subplots_adjust()\n",
    "print('Боксплоты выборосов')"
   ]
  },
  {
   "cell_type": "code",
   "execution_count": 24,
   "id": "05df2766-f643-440c-a3e7-8cabb49ec6e2",
   "metadata": {},
   "outputs": [
    {
     "data": {
      "text/html": [
       "<div><style>\n",
       ".dataframe > thead > tr,\n",
       ".dataframe > tbody > tr {\n",
       "  text-align: right;\n",
       "  white-space: pre-wrap;\n",
       "}\n",
       "</style>\n",
       "<small>shape: (9, 9)</small><table border=\"1\" class=\"dataframe\"><thead><tr><th>statistic</th><th>survived</th><th>pclass</th><th>sex</th><th>age</th><th>sibsp</th><th>parch</th><th>fare</th><th>embarked</th></tr><tr><td>str</td><td>f64</td><td>f64</td><td>str</td><td>f64</td><td>f64</td><td>f64</td><td>f64</td><td>str</td></tr></thead><tbody><tr><td>&quot;count&quot;</td><td>891.0</td><td>891.0</td><td>&quot;891&quot;</td><td>714.0</td><td>891.0</td><td>891.0</td><td>891.0</td><td>&quot;889&quot;</td></tr><tr><td>&quot;null_count&quot;</td><td>0.0</td><td>0.0</td><td>&quot;0&quot;</td><td>177.0</td><td>0.0</td><td>0.0</td><td>0.0</td><td>&quot;2&quot;</td></tr><tr><td>&quot;mean&quot;</td><td>0.383838</td><td>2.308642</td><td>null</td><td>29.625588</td><td>0.400673</td><td>0.0</td><td>28.238626</td><td>null</td></tr><tr><td>&quot;std&quot;</td><td>0.486592</td><td>0.836071</td><td>null</td><td>14.323792</td><td>0.637727</td><td>0.0</td><td>30.773639</td><td>null</td></tr><tr><td>&quot;min&quot;</td><td>0.0</td><td>1.0</td><td>&quot;female&quot;</td><td>0.42</td><td>0.0</td><td>0.0</td><td>0.0</td><td>&quot;C&quot;</td></tr><tr><td>&quot;25%&quot;</td><td>0.0</td><td>2.0</td><td>null</td><td>20.0</td><td>0.0</td><td>0.0</td><td>7.925</td><td>null</td></tr><tr><td>&quot;50%&quot;</td><td>0.0</td><td>3.0</td><td>null</td><td>28.0</td><td>0.0</td><td>0.0</td><td>14.4542</td><td>null</td></tr><tr><td>&quot;75%&quot;</td><td>1.0</td><td>3.0</td><td>null</td><td>38.0</td><td>1.0</td><td>0.0</td><td>31.0</td><td>null</td></tr><tr><td>&quot;max&quot;</td><td>1.0</td><td>3.0</td><td>&quot;male&quot;</td><td>65.0</td><td>2.0</td><td>0.0</td><td>123.3</td><td>&quot;S&quot;</td></tr></tbody></table></div>"
      ],
      "text/plain": [
       "shape: (9, 9)\n",
       "┌────────────┬──────────┬──────────┬────────┬───┬──────────┬───────┬───────────┬──────────┐\n",
       "│ statistic  ┆ survived ┆ pclass   ┆ sex    ┆ … ┆ sibsp    ┆ parch ┆ fare      ┆ embarked │\n",
       "│ ---        ┆ ---      ┆ ---      ┆ ---    ┆   ┆ ---      ┆ ---   ┆ ---       ┆ ---      │\n",
       "│ str        ┆ f64      ┆ f64      ┆ str    ┆   ┆ f64      ┆ f64   ┆ f64       ┆ str      │\n",
       "╞════════════╪══════════╪══════════╪════════╪═══╪══════════╪═══════╪═══════════╪══════════╡\n",
       "│ count      ┆ 891.0    ┆ 891.0    ┆ 891    ┆ … ┆ 891.0    ┆ 891.0 ┆ 891.0     ┆ 889      │\n",
       "│ null_count ┆ 0.0      ┆ 0.0      ┆ 0      ┆ … ┆ 0.0      ┆ 0.0   ┆ 0.0       ┆ 2        │\n",
       "│ mean       ┆ 0.383838 ┆ 2.308642 ┆ null   ┆ … ┆ 0.400673 ┆ 0.0   ┆ 28.238626 ┆ null     │\n",
       "│ std        ┆ 0.486592 ┆ 0.836071 ┆ null   ┆ … ┆ 0.637727 ┆ 0.0   ┆ 30.773639 ┆ null     │\n",
       "│ min        ┆ 0.0      ┆ 1.0      ┆ female ┆ … ┆ 0.0      ┆ 0.0   ┆ 0.0       ┆ C        │\n",
       "│ 25%        ┆ 0.0      ┆ 2.0      ┆ null   ┆ … ┆ 0.0      ┆ 0.0   ┆ 7.925     ┆ null     │\n",
       "│ 50%        ┆ 0.0      ┆ 3.0      ┆ null   ┆ … ┆ 0.0      ┆ 0.0   ┆ 14.4542   ┆ null     │\n",
       "│ 75%        ┆ 1.0      ┆ 3.0      ┆ null   ┆ … ┆ 1.0      ┆ 0.0   ┆ 31.0      ┆ null     │\n",
       "│ max        ┆ 1.0      ┆ 3.0      ┆ male   ┆ … ┆ 2.0      ┆ 0.0   ┆ 123.3     ┆ S        │\n",
       "└────────────┴──────────┴──────────┴────────┴───┴──────────┴───────┴───────────┴──────────┘"
      ]
     },
     "execution_count": 24,
     "metadata": {},
     "output_type": "execute_result"
    }
   ],
   "source": [
    "lf.describe()"
   ]
  },
  {
   "cell_type": "code",
   "execution_count": 25,
   "id": "2fcc7a7e-ea54-40c0-9a71-582fd3bb7cc7",
   "metadata": {},
   "outputs": [
    {
     "data": {
      "text/plain": [
       "Schema([('survived', Int8),\n",
       "        ('pclass', Int8),\n",
       "        ('sex', String),\n",
       "        ('age', Float64),\n",
       "        ('sibsp', Int8),\n",
       "        ('fare', Float64),\n",
       "        ('embarked', String)])"
      ]
     },
     "execution_count": 25,
     "metadata": {},
     "output_type": "execute_result"
    }
   ],
   "source": [
    "lf = lf.drop('parch')\n",
    "lf.collect_schema()"
   ]
  },
  {
   "cell_type": "markdown",
   "id": "8899e85d-c50c-48cc-94a5-700b894a23f2",
   "metadata": {},
   "source": [
    "Заполним пропуски"
   ]
  },
  {
   "cell_type": "code",
   "execution_count": 26,
   "id": "80026866-6ae8-49b0-94ae-085ff8a2c45a",
   "metadata": {},
   "outputs": [],
   "source": [
    "lf = lf.drop_nulls(pl.col('embarked'))"
   ]
  },
  {
   "cell_type": "code",
   "execution_count": 27,
   "id": "6ecf52a0-21d8-4b79-b1ad-bdb2bbda0843",
   "metadata": {},
   "outputs": [],
   "source": [
    "from sklearn.impute import KNNImputer"
   ]
  },
  {
   "cell_type": "code",
   "execution_count": 28,
   "id": "a745553e-a867-455b-ad33-1bdc91a8f4fa",
   "metadata": {},
   "outputs": [
    {
     "name": "stdout",
     "output_type": "stream",
     "text": [
      "['age']\n"
     ]
    }
   ],
   "source": [
    "null_counts = lf.select(cs.numeric().null_count()).collect()\n",
    "colls_w_nulls = [col for col in null_counts.columns if null_counts[col][0] > 0]\n",
    "print(colls_w_nulls)"
   ]
  },
  {
   "cell_type": "code",
   "execution_count": 29,
   "id": "7f58057b-0a81-452a-b261-f9fc91fe6444",
   "metadata": {
    "scrolled": true
   },
   "outputs": [],
   "source": [
    "imputed_array = KNNImputer().fit_transform(lf.select(colls_w_nulls).collect().to_numpy())"
   ]
  },
  {
   "cell_type": "code",
   "execution_count": 30,
   "id": "0fefd1aa-538d-4e83-9b85-2f5f3a7a5c19",
   "metadata": {},
   "outputs": [],
   "source": [
    "lf = lf.collect().with_columns([\n",
    "    pl.Series(name=col, values=imputed_array[:, i]) for i, col in enumerate(colls_w_nulls)\n",
    "]).lazy()"
   ]
  },
  {
   "cell_type": "code",
   "execution_count": 31,
   "id": "5cd144f6-91b7-49a8-83d7-14eac021d95f",
   "metadata": {},
   "outputs": [
    {
     "data": {
      "text/html": [
       "<div><style>\n",
       ".dataframe > thead > tr,\n",
       ".dataframe > tbody > tr {\n",
       "  text-align: right;\n",
       "  white-space: pre-wrap;\n",
       "}\n",
       "</style>\n",
       "<small>shape: (9, 8)</small><table border=\"1\" class=\"dataframe\"><thead><tr><th>statistic</th><th>survived</th><th>pclass</th><th>sex</th><th>age</th><th>sibsp</th><th>fare</th><th>embarked</th></tr><tr><td>str</td><td>f64</td><td>f64</td><td>str</td><td>f64</td><td>f64</td><td>f64</td><td>str</td></tr></thead><tbody><tr><td>&quot;count&quot;</td><td>889.0</td><td>889.0</td><td>&quot;889&quot;</td><td>889.0</td><td>889.0</td><td>889.0</td><td>&quot;889&quot;</td></tr><tr><td>&quot;null_count&quot;</td><td>0.0</td><td>0.0</td><td>&quot;0&quot;</td><td>0.0</td><td>0.0</td><td>0.0</td><td>&quot;0&quot;</td></tr><tr><td>&quot;mean&quot;</td><td>0.382452</td><td>2.311586</td><td>null</td><td>29.568357</td><td>0.401575</td><td>28.122178</td><td>null</td></tr><tr><td>&quot;std&quot;</td><td>0.48626</td><td>0.8347</td><td>null</td><td>12.785759</td><td>0.638161</td><td>30.709964</td><td>null</td></tr><tr><td>&quot;min&quot;</td><td>0.0</td><td>1.0</td><td>&quot;female&quot;</td><td>0.42</td><td>0.0</td><td>0.0</td><td>&quot;C&quot;</td></tr><tr><td>&quot;25%&quot;</td><td>0.0</td><td>2.0</td><td>null</td><td>22.0</td><td>0.0</td><td>7.8958</td><td>null</td></tr><tr><td>&quot;50%&quot;</td><td>0.0</td><td>3.0</td><td>null</td><td>29.568357</td><td>0.0</td><td>14.4542</td><td>null</td></tr><tr><td>&quot;75%&quot;</td><td>1.0</td><td>3.0</td><td>null</td><td>35.0</td><td>1.0</td><td>31.0</td><td>null</td></tr><tr><td>&quot;max&quot;</td><td>1.0</td><td>3.0</td><td>&quot;male&quot;</td><td>65.0</td><td>2.0</td><td>123.3</td><td>&quot;S&quot;</td></tr></tbody></table></div>"
      ],
      "text/plain": [
       "shape: (9, 8)\n",
       "┌────────────┬──────────┬──────────┬────────┬───────────┬──────────┬───────────┬──────────┐\n",
       "│ statistic  ┆ survived ┆ pclass   ┆ sex    ┆ age       ┆ sibsp    ┆ fare      ┆ embarked │\n",
       "│ ---        ┆ ---      ┆ ---      ┆ ---    ┆ ---       ┆ ---      ┆ ---       ┆ ---      │\n",
       "│ str        ┆ f64      ┆ f64      ┆ str    ┆ f64       ┆ f64      ┆ f64       ┆ str      │\n",
       "╞════════════╪══════════╪══════════╪════════╪═══════════╪══════════╪═══════════╪══════════╡\n",
       "│ count      ┆ 889.0    ┆ 889.0    ┆ 889    ┆ 889.0     ┆ 889.0    ┆ 889.0     ┆ 889      │\n",
       "│ null_count ┆ 0.0      ┆ 0.0      ┆ 0      ┆ 0.0       ┆ 0.0      ┆ 0.0       ┆ 0        │\n",
       "│ mean       ┆ 0.382452 ┆ 2.311586 ┆ null   ┆ 29.568357 ┆ 0.401575 ┆ 28.122178 ┆ null     │\n",
       "│ std        ┆ 0.48626  ┆ 0.8347   ┆ null   ┆ 12.785759 ┆ 0.638161 ┆ 30.709964 ┆ null     │\n",
       "│ min        ┆ 0.0      ┆ 1.0      ┆ female ┆ 0.42      ┆ 0.0      ┆ 0.0       ┆ C        │\n",
       "│ 25%        ┆ 0.0      ┆ 2.0      ┆ null   ┆ 22.0      ┆ 0.0      ┆ 7.8958    ┆ null     │\n",
       "│ 50%        ┆ 0.0      ┆ 3.0      ┆ null   ┆ 29.568357 ┆ 0.0      ┆ 14.4542   ┆ null     │\n",
       "│ 75%        ┆ 1.0      ┆ 3.0      ┆ null   ┆ 35.0      ┆ 1.0      ┆ 31.0      ┆ null     │\n",
       "│ max        ┆ 1.0      ┆ 3.0      ┆ male   ┆ 65.0      ┆ 2.0      ┆ 123.3     ┆ S        │\n",
       "└────────────┴──────────┴──────────┴────────┴───────────┴──────────┴───────────┴──────────┘"
      ]
     },
     "execution_count": 31,
     "metadata": {},
     "output_type": "execute_result"
    }
   ],
   "source": [
    "lf.describe()"
   ]
  },
  {
   "cell_type": "code",
   "execution_count": 32,
   "id": "56dd0867-2398-4f9d-b717-0dbc39484c1a",
   "metadata": {},
   "outputs": [],
   "source": [
    "from sklearn.preprocessing import OneHotEncoder"
   ]
  },
  {
   "cell_type": "code",
   "execution_count": 33,
   "id": "1f8b5e38-bd7c-4966-ad16-8c1e02f72959",
   "metadata": {},
   "outputs": [
    {
     "data": {
      "text/html": [
       "<style>#sk-container-id-1 {\n",
       "  /* Definition of color scheme common for light and dark mode */\n",
       "  --sklearn-color-text: #000;\n",
       "  --sklearn-color-text-muted: #666;\n",
       "  --sklearn-color-line: gray;\n",
       "  /* Definition of color scheme for unfitted estimators */\n",
       "  --sklearn-color-unfitted-level-0: #fff5e6;\n",
       "  --sklearn-color-unfitted-level-1: #f6e4d2;\n",
       "  --sklearn-color-unfitted-level-2: #ffe0b3;\n",
       "  --sklearn-color-unfitted-level-3: chocolate;\n",
       "  /* Definition of color scheme for fitted estimators */\n",
       "  --sklearn-color-fitted-level-0: #f0f8ff;\n",
       "  --sklearn-color-fitted-level-1: #d4ebff;\n",
       "  --sklearn-color-fitted-level-2: #b3dbfd;\n",
       "  --sklearn-color-fitted-level-3: cornflowerblue;\n",
       "\n",
       "  /* Specific color for light theme */\n",
       "  --sklearn-color-text-on-default-background: var(--sg-text-color, var(--theme-code-foreground, var(--jp-content-font-color1, black)));\n",
       "  --sklearn-color-background: var(--sg-background-color, var(--theme-background, var(--jp-layout-color0, white)));\n",
       "  --sklearn-color-border-box: var(--sg-text-color, var(--theme-code-foreground, var(--jp-content-font-color1, black)));\n",
       "  --sklearn-color-icon: #696969;\n",
       "\n",
       "  @media (prefers-color-scheme: dark) {\n",
       "    /* Redefinition of color scheme for dark theme */\n",
       "    --sklearn-color-text-on-default-background: var(--sg-text-color, var(--theme-code-foreground, var(--jp-content-font-color1, white)));\n",
       "    --sklearn-color-background: var(--sg-background-color, var(--theme-background, var(--jp-layout-color0, #111)));\n",
       "    --sklearn-color-border-box: var(--sg-text-color, var(--theme-code-foreground, var(--jp-content-font-color1, white)));\n",
       "    --sklearn-color-icon: #878787;\n",
       "  }\n",
       "}\n",
       "\n",
       "#sk-container-id-1 {\n",
       "  color: var(--sklearn-color-text);\n",
       "}\n",
       "\n",
       "#sk-container-id-1 pre {\n",
       "  padding: 0;\n",
       "}\n",
       "\n",
       "#sk-container-id-1 input.sk-hidden--visually {\n",
       "  border: 0;\n",
       "  clip: rect(1px 1px 1px 1px);\n",
       "  clip: rect(1px, 1px, 1px, 1px);\n",
       "  height: 1px;\n",
       "  margin: -1px;\n",
       "  overflow: hidden;\n",
       "  padding: 0;\n",
       "  position: absolute;\n",
       "  width: 1px;\n",
       "}\n",
       "\n",
       "#sk-container-id-1 div.sk-dashed-wrapped {\n",
       "  border: 1px dashed var(--sklearn-color-line);\n",
       "  margin: 0 0.4em 0.5em 0.4em;\n",
       "  box-sizing: border-box;\n",
       "  padding-bottom: 0.4em;\n",
       "  background-color: var(--sklearn-color-background);\n",
       "}\n",
       "\n",
       "#sk-container-id-1 div.sk-container {\n",
       "  /* jupyter's `normalize.less` sets `[hidden] { display: none; }`\n",
       "     but bootstrap.min.css set `[hidden] { display: none !important; }`\n",
       "     so we also need the `!important` here to be able to override the\n",
       "     default hidden behavior on the sphinx rendered scikit-learn.org.\n",
       "     See: https://github.com/scikit-learn/scikit-learn/issues/21755 */\n",
       "  display: inline-block !important;\n",
       "  position: relative;\n",
       "}\n",
       "\n",
       "#sk-container-id-1 div.sk-text-repr-fallback {\n",
       "  display: none;\n",
       "}\n",
       "\n",
       "div.sk-parallel-item,\n",
       "div.sk-serial,\n",
       "div.sk-item {\n",
       "  /* draw centered vertical line to link estimators */\n",
       "  background-image: linear-gradient(var(--sklearn-color-text-on-default-background), var(--sklearn-color-text-on-default-background));\n",
       "  background-size: 2px 100%;\n",
       "  background-repeat: no-repeat;\n",
       "  background-position: center center;\n",
       "}\n",
       "\n",
       "/* Parallel-specific style estimator block */\n",
       "\n",
       "#sk-container-id-1 div.sk-parallel-item::after {\n",
       "  content: \"\";\n",
       "  width: 100%;\n",
       "  border-bottom: 2px solid var(--sklearn-color-text-on-default-background);\n",
       "  flex-grow: 1;\n",
       "}\n",
       "\n",
       "#sk-container-id-1 div.sk-parallel {\n",
       "  display: flex;\n",
       "  align-items: stretch;\n",
       "  justify-content: center;\n",
       "  background-color: var(--sklearn-color-background);\n",
       "  position: relative;\n",
       "}\n",
       "\n",
       "#sk-container-id-1 div.sk-parallel-item {\n",
       "  display: flex;\n",
       "  flex-direction: column;\n",
       "}\n",
       "\n",
       "#sk-container-id-1 div.sk-parallel-item:first-child::after {\n",
       "  align-self: flex-end;\n",
       "  width: 50%;\n",
       "}\n",
       "\n",
       "#sk-container-id-1 div.sk-parallel-item:last-child::after {\n",
       "  align-self: flex-start;\n",
       "  width: 50%;\n",
       "}\n",
       "\n",
       "#sk-container-id-1 div.sk-parallel-item:only-child::after {\n",
       "  width: 0;\n",
       "}\n",
       "\n",
       "/* Serial-specific style estimator block */\n",
       "\n",
       "#sk-container-id-1 div.sk-serial {\n",
       "  display: flex;\n",
       "  flex-direction: column;\n",
       "  align-items: center;\n",
       "  background-color: var(--sklearn-color-background);\n",
       "  padding-right: 1em;\n",
       "  padding-left: 1em;\n",
       "}\n",
       "\n",
       "\n",
       "/* Toggleable style: style used for estimator/Pipeline/ColumnTransformer box that is\n",
       "clickable and can be expanded/collapsed.\n",
       "- Pipeline and ColumnTransformer use this feature and define the default style\n",
       "- Estimators will overwrite some part of the style using the `sk-estimator` class\n",
       "*/\n",
       "\n",
       "/* Pipeline and ColumnTransformer style (default) */\n",
       "\n",
       "#sk-container-id-1 div.sk-toggleable {\n",
       "  /* Default theme specific background. It is overwritten whether we have a\n",
       "  specific estimator or a Pipeline/ColumnTransformer */\n",
       "  background-color: var(--sklearn-color-background);\n",
       "}\n",
       "\n",
       "/* Toggleable label */\n",
       "#sk-container-id-1 label.sk-toggleable__label {\n",
       "  cursor: pointer;\n",
       "  display: flex;\n",
       "  width: 100%;\n",
       "  margin-bottom: 0;\n",
       "  padding: 0.5em;\n",
       "  box-sizing: border-box;\n",
       "  text-align: center;\n",
       "  align-items: start;\n",
       "  justify-content: space-between;\n",
       "  gap: 0.5em;\n",
       "}\n",
       "\n",
       "#sk-container-id-1 label.sk-toggleable__label .caption {\n",
       "  font-size: 0.6rem;\n",
       "  font-weight: lighter;\n",
       "  color: var(--sklearn-color-text-muted);\n",
       "}\n",
       "\n",
       "#sk-container-id-1 label.sk-toggleable__label-arrow:before {\n",
       "  /* Arrow on the left of the label */\n",
       "  content: \"▸\";\n",
       "  float: left;\n",
       "  margin-right: 0.25em;\n",
       "  color: var(--sklearn-color-icon);\n",
       "}\n",
       "\n",
       "#sk-container-id-1 label.sk-toggleable__label-arrow:hover:before {\n",
       "  color: var(--sklearn-color-text);\n",
       "}\n",
       "\n",
       "/* Toggleable content - dropdown */\n",
       "\n",
       "#sk-container-id-1 div.sk-toggleable__content {\n",
       "  max-height: 0;\n",
       "  max-width: 0;\n",
       "  overflow: hidden;\n",
       "  text-align: left;\n",
       "  /* unfitted */\n",
       "  background-color: var(--sklearn-color-unfitted-level-0);\n",
       "}\n",
       "\n",
       "#sk-container-id-1 div.sk-toggleable__content.fitted {\n",
       "  /* fitted */\n",
       "  background-color: var(--sklearn-color-fitted-level-0);\n",
       "}\n",
       "\n",
       "#sk-container-id-1 div.sk-toggleable__content pre {\n",
       "  margin: 0.2em;\n",
       "  border-radius: 0.25em;\n",
       "  color: var(--sklearn-color-text);\n",
       "  /* unfitted */\n",
       "  background-color: var(--sklearn-color-unfitted-level-0);\n",
       "}\n",
       "\n",
       "#sk-container-id-1 div.sk-toggleable__content.fitted pre {\n",
       "  /* unfitted */\n",
       "  background-color: var(--sklearn-color-fitted-level-0);\n",
       "}\n",
       "\n",
       "#sk-container-id-1 input.sk-toggleable__control:checked~div.sk-toggleable__content {\n",
       "  /* Expand drop-down */\n",
       "  max-height: 200px;\n",
       "  max-width: 100%;\n",
       "  overflow: auto;\n",
       "}\n",
       "\n",
       "#sk-container-id-1 input.sk-toggleable__control:checked~label.sk-toggleable__label-arrow:before {\n",
       "  content: \"▾\";\n",
       "}\n",
       "\n",
       "/* Pipeline/ColumnTransformer-specific style */\n",
       "\n",
       "#sk-container-id-1 div.sk-label input.sk-toggleable__control:checked~label.sk-toggleable__label {\n",
       "  color: var(--sklearn-color-text);\n",
       "  background-color: var(--sklearn-color-unfitted-level-2);\n",
       "}\n",
       "\n",
       "#sk-container-id-1 div.sk-label.fitted input.sk-toggleable__control:checked~label.sk-toggleable__label {\n",
       "  background-color: var(--sklearn-color-fitted-level-2);\n",
       "}\n",
       "\n",
       "/* Estimator-specific style */\n",
       "\n",
       "/* Colorize estimator box */\n",
       "#sk-container-id-1 div.sk-estimator input.sk-toggleable__control:checked~label.sk-toggleable__label {\n",
       "  /* unfitted */\n",
       "  background-color: var(--sklearn-color-unfitted-level-2);\n",
       "}\n",
       "\n",
       "#sk-container-id-1 div.sk-estimator.fitted input.sk-toggleable__control:checked~label.sk-toggleable__label {\n",
       "  /* fitted */\n",
       "  background-color: var(--sklearn-color-fitted-level-2);\n",
       "}\n",
       "\n",
       "#sk-container-id-1 div.sk-label label.sk-toggleable__label,\n",
       "#sk-container-id-1 div.sk-label label {\n",
       "  /* The background is the default theme color */\n",
       "  color: var(--sklearn-color-text-on-default-background);\n",
       "}\n",
       "\n",
       "/* On hover, darken the color of the background */\n",
       "#sk-container-id-1 div.sk-label:hover label.sk-toggleable__label {\n",
       "  color: var(--sklearn-color-text);\n",
       "  background-color: var(--sklearn-color-unfitted-level-2);\n",
       "}\n",
       "\n",
       "/* Label box, darken color on hover, fitted */\n",
       "#sk-container-id-1 div.sk-label.fitted:hover label.sk-toggleable__label.fitted {\n",
       "  color: var(--sklearn-color-text);\n",
       "  background-color: var(--sklearn-color-fitted-level-2);\n",
       "}\n",
       "\n",
       "/* Estimator label */\n",
       "\n",
       "#sk-container-id-1 div.sk-label label {\n",
       "  font-family: monospace;\n",
       "  font-weight: bold;\n",
       "  display: inline-block;\n",
       "  line-height: 1.2em;\n",
       "}\n",
       "\n",
       "#sk-container-id-1 div.sk-label-container {\n",
       "  text-align: center;\n",
       "}\n",
       "\n",
       "/* Estimator-specific */\n",
       "#sk-container-id-1 div.sk-estimator {\n",
       "  font-family: monospace;\n",
       "  border: 1px dotted var(--sklearn-color-border-box);\n",
       "  border-radius: 0.25em;\n",
       "  box-sizing: border-box;\n",
       "  margin-bottom: 0.5em;\n",
       "  /* unfitted */\n",
       "  background-color: var(--sklearn-color-unfitted-level-0);\n",
       "}\n",
       "\n",
       "#sk-container-id-1 div.sk-estimator.fitted {\n",
       "  /* fitted */\n",
       "  background-color: var(--sklearn-color-fitted-level-0);\n",
       "}\n",
       "\n",
       "/* on hover */\n",
       "#sk-container-id-1 div.sk-estimator:hover {\n",
       "  /* unfitted */\n",
       "  background-color: var(--sklearn-color-unfitted-level-2);\n",
       "}\n",
       "\n",
       "#sk-container-id-1 div.sk-estimator.fitted:hover {\n",
       "  /* fitted */\n",
       "  background-color: var(--sklearn-color-fitted-level-2);\n",
       "}\n",
       "\n",
       "/* Specification for estimator info (e.g. \"i\" and \"?\") */\n",
       "\n",
       "/* Common style for \"i\" and \"?\" */\n",
       "\n",
       ".sk-estimator-doc-link,\n",
       "a:link.sk-estimator-doc-link,\n",
       "a:visited.sk-estimator-doc-link {\n",
       "  float: right;\n",
       "  font-size: smaller;\n",
       "  line-height: 1em;\n",
       "  font-family: monospace;\n",
       "  background-color: var(--sklearn-color-background);\n",
       "  border-radius: 1em;\n",
       "  height: 1em;\n",
       "  width: 1em;\n",
       "  text-decoration: none !important;\n",
       "  margin-left: 0.5em;\n",
       "  text-align: center;\n",
       "  /* unfitted */\n",
       "  border: var(--sklearn-color-unfitted-level-1) 1pt solid;\n",
       "  color: var(--sklearn-color-unfitted-level-1);\n",
       "}\n",
       "\n",
       ".sk-estimator-doc-link.fitted,\n",
       "a:link.sk-estimator-doc-link.fitted,\n",
       "a:visited.sk-estimator-doc-link.fitted {\n",
       "  /* fitted */\n",
       "  border: var(--sklearn-color-fitted-level-1) 1pt solid;\n",
       "  color: var(--sklearn-color-fitted-level-1);\n",
       "}\n",
       "\n",
       "/* On hover */\n",
       "div.sk-estimator:hover .sk-estimator-doc-link:hover,\n",
       ".sk-estimator-doc-link:hover,\n",
       "div.sk-label-container:hover .sk-estimator-doc-link:hover,\n",
       ".sk-estimator-doc-link:hover {\n",
       "  /* unfitted */\n",
       "  background-color: var(--sklearn-color-unfitted-level-3);\n",
       "  color: var(--sklearn-color-background);\n",
       "  text-decoration: none;\n",
       "}\n",
       "\n",
       "div.sk-estimator.fitted:hover .sk-estimator-doc-link.fitted:hover,\n",
       ".sk-estimator-doc-link.fitted:hover,\n",
       "div.sk-label-container:hover .sk-estimator-doc-link.fitted:hover,\n",
       ".sk-estimator-doc-link.fitted:hover {\n",
       "  /* fitted */\n",
       "  background-color: var(--sklearn-color-fitted-level-3);\n",
       "  color: var(--sklearn-color-background);\n",
       "  text-decoration: none;\n",
       "}\n",
       "\n",
       "/* Span, style for the box shown on hovering the info icon */\n",
       ".sk-estimator-doc-link span {\n",
       "  display: none;\n",
       "  z-index: 9999;\n",
       "  position: relative;\n",
       "  font-weight: normal;\n",
       "  right: .2ex;\n",
       "  padding: .5ex;\n",
       "  margin: .5ex;\n",
       "  width: min-content;\n",
       "  min-width: 20ex;\n",
       "  max-width: 50ex;\n",
       "  color: var(--sklearn-color-text);\n",
       "  box-shadow: 2pt 2pt 4pt #999;\n",
       "  /* unfitted */\n",
       "  background: var(--sklearn-color-unfitted-level-0);\n",
       "  border: .5pt solid var(--sklearn-color-unfitted-level-3);\n",
       "}\n",
       "\n",
       ".sk-estimator-doc-link.fitted span {\n",
       "  /* fitted */\n",
       "  background: var(--sklearn-color-fitted-level-0);\n",
       "  border: var(--sklearn-color-fitted-level-3);\n",
       "}\n",
       "\n",
       ".sk-estimator-doc-link:hover span {\n",
       "  display: block;\n",
       "}\n",
       "\n",
       "/* \"?\"-specific style due to the `<a>` HTML tag */\n",
       "\n",
       "#sk-container-id-1 a.estimator_doc_link {\n",
       "  float: right;\n",
       "  font-size: 1rem;\n",
       "  line-height: 1em;\n",
       "  font-family: monospace;\n",
       "  background-color: var(--sklearn-color-background);\n",
       "  border-radius: 1rem;\n",
       "  height: 1rem;\n",
       "  width: 1rem;\n",
       "  text-decoration: none;\n",
       "  /* unfitted */\n",
       "  color: var(--sklearn-color-unfitted-level-1);\n",
       "  border: var(--sklearn-color-unfitted-level-1) 1pt solid;\n",
       "}\n",
       "\n",
       "#sk-container-id-1 a.estimator_doc_link.fitted {\n",
       "  /* fitted */\n",
       "  border: var(--sklearn-color-fitted-level-1) 1pt solid;\n",
       "  color: var(--sklearn-color-fitted-level-1);\n",
       "}\n",
       "\n",
       "/* On hover */\n",
       "#sk-container-id-1 a.estimator_doc_link:hover {\n",
       "  /* unfitted */\n",
       "  background-color: var(--sklearn-color-unfitted-level-3);\n",
       "  color: var(--sklearn-color-background);\n",
       "  text-decoration: none;\n",
       "}\n",
       "\n",
       "#sk-container-id-1 a.estimator_doc_link.fitted:hover {\n",
       "  /* fitted */\n",
       "  background-color: var(--sklearn-color-fitted-level-3);\n",
       "}\n",
       "</style><div id=\"sk-container-id-1\" class=\"sk-top-container\"><div class=\"sk-text-repr-fallback\"><pre>OneHotEncoder()</pre><b>In a Jupyter environment, please rerun this cell to show the HTML representation or trust the notebook. <br />On GitHub, the HTML representation is unable to render, please try loading this page with nbviewer.org.</b></div><div class=\"sk-container\" hidden><div class=\"sk-item\"><div class=\"sk-estimator fitted sk-toggleable\"><input class=\"sk-toggleable__control sk-hidden--visually\" id=\"sk-estimator-id-1\" type=\"checkbox\" checked><label for=\"sk-estimator-id-1\" class=\"sk-toggleable__label fitted sk-toggleable__label-arrow\"><div><div>OneHotEncoder</div></div><div><a class=\"sk-estimator-doc-link fitted\" rel=\"noreferrer\" target=\"_blank\" href=\"https://scikit-learn.org/1.6/modules/generated/sklearn.preprocessing.OneHotEncoder.html\">?<span>Documentation for OneHotEncoder</span></a><span class=\"sk-estimator-doc-link fitted\">i<span>Fitted</span></span></div></label><div class=\"sk-toggleable__content fitted\"><pre>OneHotEncoder()</pre></div> </div></div></div></div>"
      ],
      "text/plain": [
       "OneHotEncoder()"
      ]
     },
     "execution_count": 33,
     "metadata": {},
     "output_type": "execute_result"
    }
   ],
   "source": [
    "ohe = OneHotEncoder()\n",
    "ohe.fit(lf.select(pl.col('pclass', 'sex', 'sibsp', 'embarked')).collect())"
   ]
  },
  {
   "cell_type": "code",
   "execution_count": 34,
   "id": "c25efa72-7829-4399-b18d-c8d60c86d97c",
   "metadata": {},
   "outputs": [
    {
     "data": {
      "text/plain": [
       "[array([1, 2, 3], dtype=object),\n",
       " array(['female', 'male'], dtype=object),\n",
       " array([0, 1, 2], dtype=object),\n",
       " array(['C', 'Q', 'S'], dtype=object)]"
      ]
     },
     "execution_count": 34,
     "metadata": {},
     "output_type": "execute_result"
    }
   ],
   "source": [
    "ohe.categories_"
   ]
  },
  {
   "cell_type": "code",
   "execution_count": 35,
   "id": "3550aadf-0bc2-4733-818b-c17e376528cd",
   "metadata": {},
   "outputs": [
    {
     "data": {
      "text/plain": [
       "array(['pclass_1', 'pclass_2', 'pclass_3', 'sex_female', 'sex_male',\n",
       "       'sibsp_0', 'sibsp_1', 'sibsp_2', 'embarked_C', 'embarked_Q',\n",
       "       'embarked_S'], dtype=object)"
      ]
     },
     "execution_count": 35,
     "metadata": {},
     "output_type": "execute_result"
    }
   ],
   "source": [
    "ohe.get_feature_names_out()"
   ]
  },
  {
   "cell_type": "code",
   "execution_count": 36,
   "id": "0e89a071-e94a-4bd7-b875-c48bee6c6156",
   "metadata": {},
   "outputs": [
    {
     "name": "stdout",
     "output_type": "stream",
     "text": [
      "shape: (6, 4)\n",
      "┌────────┬──────────┬───────┬───────────┐\n",
      "│ pclass ┆ survived ┆ count ┆ percent   │\n",
      "│ ---    ┆ ---      ┆ ---   ┆ ---       │\n",
      "│ i8     ┆ i8       ┆ u32   ┆ f64       │\n",
      "╞════════╪══════════╪═══════╪═══════════╡\n",
      "│ 1      ┆ 0        ┆ 80    ┆ 37.383178 │\n",
      "│ 1      ┆ 1        ┆ 134   ┆ 62.616822 │\n",
      "│ 2      ┆ 0        ┆ 97    ┆ 52.717391 │\n",
      "│ 2      ┆ 1        ┆ 87    ┆ 47.282609 │\n",
      "│ 3      ┆ 0        ┆ 372   ┆ 75.763747 │\n",
      "│ 3      ┆ 1        ┆ 119   ┆ 24.236253 │\n",
      "└────────┴──────────┴───────┴───────────┘\n",
      "shape: (4, 4)\n",
      "┌────────┬──────────┬───────┬───────────┐\n",
      "│ sex    ┆ survived ┆ count ┆ percent   │\n",
      "│ ---    ┆ ---      ┆ ---   ┆ ---       │\n",
      "│ str    ┆ i8       ┆ u32   ┆ f64       │\n",
      "╞════════╪══════════╪═══════╪═══════════╡\n",
      "│ female ┆ 0        ┆ 81    ┆ 25.961538 │\n",
      "│ female ┆ 1        ┆ 231   ┆ 74.038462 │\n",
      "│ male   ┆ 0        ┆ 468   ┆ 81.109185 │\n",
      "│ male   ┆ 1        ┆ 109   ┆ 18.890815 │\n",
      "└────────┴──────────┴───────┴───────────┘\n",
      "shape: (6, 4)\n",
      "┌───────┬──────────┬───────┬───────────┐\n",
      "│ sibsp ┆ survived ┆ count ┆ percent   │\n",
      "│ ---   ┆ ---      ┆ ---   ┆ ---       │\n",
      "│ i8    ┆ i8       ┆ u32   ┆ f64       │\n",
      "╞═══════╪══════════╪═══════╪═══════════╡\n",
      "│ 0     ┆ 0        ┆ 398   ┆ 65.676568 │\n",
      "│ 0     ┆ 1        ┆ 208   ┆ 34.323432 │\n",
      "│ 1     ┆ 0        ┆ 97    ┆ 46.411483 │\n",
      "│ 1     ┆ 1        ┆ 112   ┆ 53.588517 │\n",
      "│ 2     ┆ 0        ┆ 54    ┆ 72.972973 │\n",
      "│ 2     ┆ 1        ┆ 20    ┆ 27.027027 │\n",
      "└───────┴──────────┴───────┴───────────┘\n",
      "shape: (6, 4)\n",
      "┌──────────┬──────────┬───────┬───────────┐\n",
      "│ embarked ┆ survived ┆ count ┆ percent   │\n",
      "│ ---      ┆ ---      ┆ ---   ┆ ---       │\n",
      "│ str      ┆ i8       ┆ u32   ┆ f64       │\n",
      "╞══════════╪══════════╪═══════╪═══════════╡\n",
      "│ C        ┆ 0        ┆ 75    ┆ 44.642857 │\n",
      "│ C        ┆ 1        ┆ 93    ┆ 55.357143 │\n",
      "│ Q        ┆ 0        ┆ 47    ┆ 61.038961 │\n",
      "│ Q        ┆ 1        ┆ 30    ┆ 38.961039 │\n",
      "│ S        ┆ 0        ┆ 427   ┆ 66.304348 │\n",
      "│ S        ┆ 1        ┆ 217   ┆ 33.695652 │\n",
      "└──────────┴──────────┴───────┴───────────┘\n"
     ]
    }
   ],
   "source": [
    "cols = ['pclass', 'sex', 'sibsp', 'embarked']\n",
    "for col in cols:\n",
    "    result = (\n",
    "        lf.group_by(col, 'survived')\n",
    "        .agg(pl.len().alias('count'))\n",
    "        .with_columns(\n",
    "            (pl.col('count') / pl.col('count').sum().over(col) * 100).alias('percent')\n",
    "        )\n",
    "        .sort(col, 'survived')\n",
    "        .collect()\n",
    "    )\n",
    "    print(result)"
   ]
  },
  {
   "cell_type": "markdown",
   "id": "b4fc499a-2de8-47e2-b3e3-a437b7640af8",
   "metadata": {},
   "source": [
    "Составить результативный датасет (отбросив колонки Pclass_2, sex_male, sibsp_0, embarked_S) и построить по нему модель"
   ]
  },
  {
   "cell_type": "code",
   "execution_count": 37,
   "id": "8ae583cb-21e3-45ba-8094-2802fdb639c3",
   "metadata": {},
   "outputs": [],
   "source": [
    "res_matrix = ohe.transform(lf.select(pl.col('pclass', 'sex', 'sibsp', 'embarked')).collect())"
   ]
  },
  {
   "cell_type": "code",
   "execution_count": 38,
   "id": "251025e5-1d51-4148-b1f8-4fc7ab5fa0ba",
   "metadata": {},
   "outputs": [
    {
     "data": {
      "text/plain": [
       "(889, 11)"
      ]
     },
     "execution_count": 38,
     "metadata": {},
     "output_type": "execute_result"
    }
   ],
   "source": [
    "res_matrix.toarray().shape"
   ]
  },
  {
   "cell_type": "code",
   "execution_count": 39,
   "id": "3edb16be-db3f-4ca0-9ddc-eb69c66407d6",
   "metadata": {},
   "outputs": [
    {
     "data": {
      "text/html": [
       "<div><style>\n",
       ".dataframe > thead > tr,\n",
       ".dataframe > tbody > tr {\n",
       "  text-align: right;\n",
       "  white-space: pre-wrap;\n",
       "}\n",
       "</style>\n",
       "<small>shape: (5, 18)</small><table border=\"1\" class=\"dataframe\"><thead><tr><th>survived</th><th>pclass</th><th>sex</th><th>age</th><th>sibsp</th><th>fare</th><th>embarked</th><th>pclass_1</th><th>pclass_2</th><th>pclass_3</th><th>sex_female</th><th>sex_male</th><th>sibsp_0</th><th>sibsp_1</th><th>sibsp_2</th><th>embarked_C</th><th>embarked_Q</th><th>embarked_S</th></tr><tr><td>i8</td><td>i8</td><td>str</td><td>f64</td><td>i8</td><td>f64</td><td>str</td><td>i8</td><td>i8</td><td>i8</td><td>i8</td><td>i8</td><td>i8</td><td>i8</td><td>i8</td><td>i8</td><td>i8</td><td>i8</td></tr></thead><tbody><tr><td>0</td><td>3</td><td>&quot;male&quot;</td><td>22.0</td><td>1</td><td>7.25</td><td>&quot;S&quot;</td><td>0</td><td>0</td><td>1</td><td>0</td><td>1</td><td>0</td><td>1</td><td>0</td><td>0</td><td>0</td><td>1</td></tr><tr><td>1</td><td>1</td><td>&quot;female&quot;</td><td>38.0</td><td>1</td><td>71.2833</td><td>&quot;C&quot;</td><td>1</td><td>0</td><td>0</td><td>1</td><td>0</td><td>0</td><td>1</td><td>0</td><td>1</td><td>0</td><td>0</td></tr><tr><td>1</td><td>3</td><td>&quot;female&quot;</td><td>26.0</td><td>0</td><td>7.925</td><td>&quot;S&quot;</td><td>0</td><td>0</td><td>1</td><td>1</td><td>0</td><td>1</td><td>0</td><td>0</td><td>0</td><td>0</td><td>1</td></tr><tr><td>1</td><td>1</td><td>&quot;female&quot;</td><td>35.0</td><td>1</td><td>53.1</td><td>&quot;S&quot;</td><td>1</td><td>0</td><td>0</td><td>1</td><td>0</td><td>0</td><td>1</td><td>0</td><td>0</td><td>0</td><td>1</td></tr><tr><td>0</td><td>3</td><td>&quot;male&quot;</td><td>35.0</td><td>0</td><td>8.05</td><td>&quot;S&quot;</td><td>0</td><td>0</td><td>1</td><td>0</td><td>1</td><td>1</td><td>0</td><td>0</td><td>0</td><td>0</td><td>1</td></tr></tbody></table></div>"
      ],
      "text/plain": [
       "shape: (5, 18)\n",
       "┌──────────┬────────┬────────┬──────┬───┬─────────┬────────────┬────────────┬────────────┐\n",
       "│ survived ┆ pclass ┆ sex    ┆ age  ┆ … ┆ sibsp_2 ┆ embarked_C ┆ embarked_Q ┆ embarked_S │\n",
       "│ ---      ┆ ---    ┆ ---    ┆ ---  ┆   ┆ ---     ┆ ---        ┆ ---        ┆ ---        │\n",
       "│ i8       ┆ i8     ┆ str    ┆ f64  ┆   ┆ i8      ┆ i8         ┆ i8         ┆ i8         │\n",
       "╞══════════╪════════╪════════╪══════╪═══╪═════════╪════════════╪════════════╪════════════╡\n",
       "│ 0        ┆ 3      ┆ male   ┆ 22.0 ┆ … ┆ 0       ┆ 0          ┆ 0          ┆ 1          │\n",
       "│ 1        ┆ 1      ┆ female ┆ 38.0 ┆ … ┆ 0       ┆ 1          ┆ 0          ┆ 0          │\n",
       "│ 1        ┆ 3      ┆ female ┆ 26.0 ┆ … ┆ 0       ┆ 0          ┆ 0          ┆ 1          │\n",
       "│ 1        ┆ 1      ┆ female ┆ 35.0 ┆ … ┆ 0       ┆ 0          ┆ 0          ┆ 1          │\n",
       "│ 0        ┆ 3      ┆ male   ┆ 35.0 ┆ … ┆ 0       ┆ 0          ┆ 0          ┆ 1          │\n",
       "└──────────┴────────┴────────┴──────┴───┴─────────┴────────────┴────────────┴────────────┘"
      ]
     },
     "execution_count": 39,
     "metadata": {},
     "output_type": "execute_result"
    }
   ],
   "source": [
    "lf_fin = lf.with_columns(\n",
    "    [pl.Series(name, row, pl.Int8) for name, row in zip(ohe.get_feature_names_out(), res_matrix.toarray().T)]\n",
    ")\n",
    "lf_fin.head().collect()"
   ]
  },
  {
   "cell_type": "code",
   "execution_count": 40,
   "id": "f176600c-2ab6-41d0-acd9-7628a3cc2023",
   "metadata": {},
   "outputs": [
    {
     "data": {
      "text/html": [
       "<div><style>\n",
       ".dataframe > thead > tr,\n",
       ".dataframe > tbody > tr {\n",
       "  text-align: right;\n",
       "  white-space: pre-wrap;\n",
       "}\n",
       "</style>\n",
       "<small>shape: (5, 10)</small><table border=\"1\" class=\"dataframe\"><thead><tr><th>survived</th><th>age</th><th>fare</th><th>pclass_1</th><th>pclass_3</th><th>sex_female</th><th>sibsp_1</th><th>sibsp_2</th><th>embarked_C</th><th>embarked_Q</th></tr><tr><td>i8</td><td>f64</td><td>f64</td><td>i8</td><td>i8</td><td>i8</td><td>i8</td><td>i8</td><td>i8</td><td>i8</td></tr></thead><tbody><tr><td>0</td><td>22.0</td><td>7.25</td><td>0</td><td>1</td><td>0</td><td>1</td><td>0</td><td>0</td><td>0</td></tr><tr><td>1</td><td>38.0</td><td>71.2833</td><td>1</td><td>0</td><td>1</td><td>1</td><td>0</td><td>1</td><td>0</td></tr><tr><td>1</td><td>26.0</td><td>7.925</td><td>0</td><td>1</td><td>1</td><td>0</td><td>0</td><td>0</td><td>0</td></tr><tr><td>1</td><td>35.0</td><td>53.1</td><td>1</td><td>0</td><td>1</td><td>1</td><td>0</td><td>0</td><td>0</td></tr><tr><td>0</td><td>35.0</td><td>8.05</td><td>0</td><td>1</td><td>0</td><td>0</td><td>0</td><td>0</td><td>0</td></tr></tbody></table></div>"
      ],
      "text/plain": [
       "shape: (5, 10)\n",
       "┌──────────┬──────┬─────────┬──────────┬───┬─────────┬─────────┬────────────┬────────────┐\n",
       "│ survived ┆ age  ┆ fare    ┆ pclass_1 ┆ … ┆ sibsp_1 ┆ sibsp_2 ┆ embarked_C ┆ embarked_Q │\n",
       "│ ---      ┆ ---  ┆ ---     ┆ ---      ┆   ┆ ---     ┆ ---     ┆ ---        ┆ ---        │\n",
       "│ i8       ┆ f64  ┆ f64     ┆ i8       ┆   ┆ i8      ┆ i8      ┆ i8         ┆ i8         │\n",
       "╞══════════╪══════╪═════════╪══════════╪═══╪═════════╪═════════╪════════════╪════════════╡\n",
       "│ 0        ┆ 22.0 ┆ 7.25    ┆ 0        ┆ … ┆ 1       ┆ 0       ┆ 0          ┆ 0          │\n",
       "│ 1        ┆ 38.0 ┆ 71.2833 ┆ 1        ┆ … ┆ 1       ┆ 0       ┆ 1          ┆ 0          │\n",
       "│ 1        ┆ 26.0 ┆ 7.925   ┆ 0        ┆ … ┆ 0       ┆ 0       ┆ 0          ┆ 0          │\n",
       "│ 1        ┆ 35.0 ┆ 53.1    ┆ 1        ┆ … ┆ 1       ┆ 0       ┆ 0          ┆ 0          │\n",
       "│ 0        ┆ 35.0 ┆ 8.05    ┆ 0        ┆ … ┆ 0       ┆ 0       ┆ 0          ┆ 0          │\n",
       "└──────────┴──────┴─────────┴──────────┴───┴─────────┴─────────┴────────────┴────────────┘"
      ]
     },
     "execution_count": 40,
     "metadata": {},
     "output_type": "execute_result"
    }
   ],
   "source": [
    "lf_fin = lf_fin.drop(pl.col('pclass', 'sex', 'sibsp', 'embarked', 'pclass_2', 'sex_male', 'sibsp_0', 'embarked_S'))\n",
    "lf_fin.head().collect()"
   ]
  },
  {
   "cell_type": "code",
   "execution_count": 41,
   "id": "7e29dd4b-8543-48f3-80ff-be2a374432e5",
   "metadata": {},
   "outputs": [
    {
     "data": {
      "text/html": [
       "<div><style>\n",
       ".dataframe > thead > tr,\n",
       ".dataframe > tbody > tr {\n",
       "  text-align: right;\n",
       "  white-space: pre-wrap;\n",
       "}\n",
       "</style>\n",
       "<small>shape: (9, 11)</small><table border=\"1\" class=\"dataframe\"><thead><tr><th>statistic</th><th>survived</th><th>age</th><th>fare</th><th>pclass_1</th><th>pclass_3</th><th>sex_female</th><th>sibsp_1</th><th>sibsp_2</th><th>embarked_C</th><th>embarked_Q</th></tr><tr><td>str</td><td>f64</td><td>f64</td><td>f64</td><td>f64</td><td>f64</td><td>f64</td><td>f64</td><td>f64</td><td>f64</td><td>f64</td></tr></thead><tbody><tr><td>&quot;count&quot;</td><td>889.0</td><td>889.0</td><td>889.0</td><td>889.0</td><td>889.0</td><td>889.0</td><td>889.0</td><td>889.0</td><td>889.0</td><td>889.0</td></tr><tr><td>&quot;null_count&quot;</td><td>0.0</td><td>0.0</td><td>0.0</td><td>0.0</td><td>0.0</td><td>0.0</td><td>0.0</td><td>0.0</td><td>0.0</td><td>0.0</td></tr><tr><td>&quot;mean&quot;</td><td>0.382452</td><td>29.568357</td><td>28.122178</td><td>0.24072</td><td>0.552306</td><td>0.350956</td><td>0.235096</td><td>0.08324</td><td>0.188976</td><td>0.086614</td></tr><tr><td>&quot;std&quot;</td><td>0.48626</td><td>12.785759</td><td>30.709964</td><td>0.427761</td><td>0.497536</td><td>0.477538</td><td>0.424297</td><td>0.2764</td><td>0.39171</td><td>0.281427</td></tr><tr><td>&quot;min&quot;</td><td>0.0</td><td>0.42</td><td>0.0</td><td>0.0</td><td>0.0</td><td>0.0</td><td>0.0</td><td>0.0</td><td>0.0</td><td>0.0</td></tr><tr><td>&quot;25%&quot;</td><td>0.0</td><td>22.0</td><td>7.8958</td><td>0.0</td><td>0.0</td><td>0.0</td><td>0.0</td><td>0.0</td><td>0.0</td><td>0.0</td></tr><tr><td>&quot;50%&quot;</td><td>0.0</td><td>29.568357</td><td>14.4542</td><td>0.0</td><td>1.0</td><td>0.0</td><td>0.0</td><td>0.0</td><td>0.0</td><td>0.0</td></tr><tr><td>&quot;75%&quot;</td><td>1.0</td><td>35.0</td><td>31.0</td><td>0.0</td><td>1.0</td><td>1.0</td><td>0.0</td><td>0.0</td><td>0.0</td><td>0.0</td></tr><tr><td>&quot;max&quot;</td><td>1.0</td><td>65.0</td><td>123.3</td><td>1.0</td><td>1.0</td><td>1.0</td><td>1.0</td><td>1.0</td><td>1.0</td><td>1.0</td></tr></tbody></table></div>"
      ],
      "text/plain": [
       "shape: (9, 11)\n",
       "┌────────────┬──────────┬───────────┬───────────┬───┬──────────┬─────────┬────────────┬────────────┐\n",
       "│ statistic  ┆ survived ┆ age       ┆ fare      ┆ … ┆ sibsp_1  ┆ sibsp_2 ┆ embarked_C ┆ embarked_Q │\n",
       "│ ---        ┆ ---      ┆ ---       ┆ ---       ┆   ┆ ---      ┆ ---     ┆ ---        ┆ ---        │\n",
       "│ str        ┆ f64      ┆ f64       ┆ f64       ┆   ┆ f64      ┆ f64     ┆ f64        ┆ f64        │\n",
       "╞════════════╪══════════╪═══════════╪═══════════╪═══╪══════════╪═════════╪════════════╪════════════╡\n",
       "│ count      ┆ 889.0    ┆ 889.0     ┆ 889.0     ┆ … ┆ 889.0    ┆ 889.0   ┆ 889.0      ┆ 889.0      │\n",
       "│ null_count ┆ 0.0      ┆ 0.0       ┆ 0.0       ┆ … ┆ 0.0      ┆ 0.0     ┆ 0.0        ┆ 0.0        │\n",
       "│ mean       ┆ 0.382452 ┆ 29.568357 ┆ 28.122178 ┆ … ┆ 0.235096 ┆ 0.08324 ┆ 0.188976   ┆ 0.086614   │\n",
       "│ std        ┆ 0.48626  ┆ 12.785759 ┆ 30.709964 ┆ … ┆ 0.424297 ┆ 0.2764  ┆ 0.39171    ┆ 0.281427   │\n",
       "│ min        ┆ 0.0      ┆ 0.42      ┆ 0.0       ┆ … ┆ 0.0      ┆ 0.0     ┆ 0.0        ┆ 0.0        │\n",
       "│ 25%        ┆ 0.0      ┆ 22.0      ┆ 7.8958    ┆ … ┆ 0.0      ┆ 0.0     ┆ 0.0        ┆ 0.0        │\n",
       "│ 50%        ┆ 0.0      ┆ 29.568357 ┆ 14.4542   ┆ … ┆ 0.0      ┆ 0.0     ┆ 0.0        ┆ 0.0        │\n",
       "│ 75%        ┆ 1.0      ┆ 35.0      ┆ 31.0      ┆ … ┆ 0.0      ┆ 0.0     ┆ 0.0        ┆ 0.0        │\n",
       "│ max        ┆ 1.0      ┆ 65.0      ┆ 123.3     ┆ … ┆ 1.0      ┆ 1.0     ┆ 1.0        ┆ 1.0        │\n",
       "└────────────┴──────────┴───────────┴───────────┴───┴──────────┴─────────┴────────────┴────────────┘"
      ]
     },
     "execution_count": 41,
     "metadata": {},
     "output_type": "execute_result"
    }
   ],
   "source": [
    "lf_fin.describe()"
   ]
  },
  {
   "cell_type": "code",
   "execution_count": 42,
   "id": "ba2fb32f-634f-4a8a-a773-66188a5b14c1",
   "metadata": {},
   "outputs": [],
   "source": [
    "np.save('./data/train.npy', lf_fin.collect().to_numpy())\n",
    "np.save('./data/features.npy', np.array(lf_fin.collect_schema().names()))"
   ]
  },
  {
   "cell_type": "code",
   "execution_count": 43,
   "id": "7d3a7bd0-97f2-4a40-ba40-b0b7a30cac3a",
   "metadata": {},
   "outputs": [
    {
     "data": {
      "image/svg+xml": [
       "<svg xmlns=\"http://www.w3.org/2000/svg\" xmlns:xlink=\"http://www.w3.org/1999/xlink\" width=\"172pt\" height=\"49pt\" viewBox=\"0.00 0.00 171.75 49.00\">\n",
       "<g id=\"graph0\" class=\"graph\" transform=\"scale(1 1) rotate(0) translate(4 45)\">\n",
       "<title>polars_query</title>\n",
       "<polygon fill=\"white\" stroke=\"none\" points=\"-4,4 -4,-45 167.75,-45 167.75,4 -4,4\"/>\n",
       "<!-- p1 -->\n",
       "<g id=\"node1\" class=\"node\">\n",
       "<title>p1</title>\n",
       "<polygon fill=\"none\" stroke=\"black\" points=\"163.75,-41 0,-41 0,0 163.75,0 163.75,-41\"/>\n",
       "<text text-anchor=\"middle\" x=\"81.88\" y=\"-23.7\" font-family=\"Times New Roman,serif\" font-size=\"14.00\">Csv SCAN [./data/test.csv]</text>\n",
       "<text text-anchor=\"middle\" x=\"81.88\" y=\"-7.2\" font-family=\"Times New Roman,serif\" font-size=\"14.00\">π */11;</text>\n",
       "</g>\n",
       "</g>\n",
       "</svg>"
      ],
      "text/plain": [
       "<IPython.core.display.SVG object>"
      ]
     },
     "metadata": {},
     "output_type": "display_data"
    }
   ],
   "source": [
    "path = './data/test.csv'\n",
    "lf = pl.scan_csv(path)\n",
    "lf.show_graph()"
   ]
  },
  {
   "cell_type": "code",
   "execution_count": 44,
   "id": "dacf1d50-2d38-43c2-97de-7905ecfed74e",
   "metadata": {},
   "outputs": [
    {
     "data": {
      "text/plain": [
       "Schema([('Pclass', Int64),\n",
       "        ('Sex', String),\n",
       "        ('Age', Float64),\n",
       "        ('SibSp', Int64),\n",
       "        ('Parch', Int64),\n",
       "        ('Fare', Float64),\n",
       "        ('Embarked', String)])"
      ]
     },
     "execution_count": 44,
     "metadata": {},
     "output_type": "execute_result"
    }
   ],
   "source": [
    "lf = lf.drop('PassengerId', 'Ticket', 'Cabin', 'Name', strict=False)\n",
    "lf.collect_schema()"
   ]
  },
  {
   "cell_type": "code",
   "execution_count": 45,
   "id": "10b38059-ec0f-48ea-adac-c8615c47bbe7",
   "metadata": {},
   "outputs": [],
   "source": [
    "lf = lf.rename({name: name.lower() for name in lf.collect_schema().names()})"
   ]
  },
  {
   "cell_type": "code",
   "execution_count": 46,
   "id": "1df7c25f-6d94-43e3-a0f8-eff2b8c9a4bb",
   "metadata": {},
   "outputs": [
    {
     "data": {
      "text/plain": [
       "Schema([('pclass', Int8),\n",
       "        ('sex', String),\n",
       "        ('age', Float64),\n",
       "        ('sibsp', Int8),\n",
       "        ('parch', Int8),\n",
       "        ('fare', Float64),\n",
       "        ('embarked', String)])"
      ]
     },
     "execution_count": 46,
     "metadata": {},
     "output_type": "execute_result"
    }
   ],
   "source": [
    "lf = lf.with_columns(\n",
    "    # pl.col('survived').cast(pl.Int8),\n",
    "    pl.col('pclass').cast(pl.Int8),\n",
    "    pl.col('sibsp').cast(pl.Int8),\n",
    "    pl.col('parch').cast(pl.Int8)\n",
    ")\n",
    "lf.collect_schema()"
   ]
  },
  {
   "cell_type": "markdown",
   "id": "6a0655bb-7e02-4130-ad01-25f09dd94c81",
   "metadata": {},
   "source": [
    "Удалим выбросы при помощи IQR"
   ]
  },
  {
   "cell_type": "code",
   "execution_count": 47,
   "id": "6f54f6e2-7b1d-4ecd-a0c5-11c9a08d2c0a",
   "metadata": {},
   "outputs": [],
   "source": [
    "def calc_boundaries(arr: np.ndarray) -> tuple[float, float]:\n",
    "    q75 = np.quantile(arr, 0.75)\n",
    "    q25 = np.quantile(arr, 0.25)\n",
    "    iqr = q75 - q25\n",
    "    return(q25 - 1.5 * iqr, q75 + 1.5 * iqr)"
   ]
  },
  {
   "cell_type": "code",
   "execution_count": 48,
   "id": "274f3613-80d2-4c6b-a252-033ad67dc81d",
   "metadata": {},
   "outputs": [],
   "source": [
    "lf_eda = lf.drop_nulls()"
   ]
  },
  {
   "cell_type": "code",
   "execution_count": 49,
   "id": "5fbfe04e-c9a5-4455-a886-f742052420b1",
   "metadata": {},
   "outputs": [],
   "source": [
    "def clip_outliers(s: pl.Series) -> pl.Series:\n",
    "    arr = s.to_numpy()\n",
    "    bounds = calc_boundaries(arr)\n",
    "    return pl.Series(np.clip(arr, bounds[0], bounds[1]))"
   ]
  },
  {
   "cell_type": "code",
   "execution_count": 50,
   "id": "c7115d12-85da-41e2-9c37-9e37b7caad6a",
   "metadata": {},
   "outputs": [],
   "source": [
    "lf = lf.with_columns(\n",
    "    cs.numeric().exclude('fare').clip(\n",
    "        cs.numeric().quantile(0.25) - 1.5 * (cs.numeric().quantile(0.75) - cs.numeric().quantile(0.25)),\n",
    "        cs.numeric().quantile(0.75) + 1.5 * (cs.numeric().quantile(0.75) - cs.numeric().quantile(0.25))\n",
    "    ),\n",
    "    pl.col('fare').clip(\n",
    "        pl.col('fare').quantile(0.25) - 1.5 * (pl.col('fare').quantile(0.75) - pl.col('fare').quantile(0.25)),\n",
    "        pl.col('fare').quantile(0.75) + 4 * (pl.col('fare').quantile(0.75) - pl.col('fare').quantile(0.25)),\n",
    "    )\n",
    ")"
   ]
  },
  {
   "cell_type": "code",
   "execution_count": 51,
   "id": "15bb950e-12ac-476b-8c08-6951cbb702a4",
   "metadata": {},
   "outputs": [
    {
     "data": {
      "text/plain": [
       "Schema([('pclass', Int8),\n",
       "        ('sex', String),\n",
       "        ('age', Float64),\n",
       "        ('sibsp', Int8),\n",
       "        ('parch', Int8),\n",
       "        ('fare', Float64),\n",
       "        ('embarked', String)])"
      ]
     },
     "execution_count": 51,
     "metadata": {},
     "output_type": "execute_result"
    }
   ],
   "source": [
    "lf.collect_schema()"
   ]
  },
  {
   "cell_type": "code",
   "execution_count": 52,
   "id": "4d04d3fb-5642-4222-8f78-fd43227e0e9e",
   "metadata": {},
   "outputs": [
    {
     "data": {
      "text/plain": [
       "Schema([('pclass', Int8),\n",
       "        ('sex', String),\n",
       "        ('age', Float64),\n",
       "        ('sibsp', Int8),\n",
       "        ('fare', Float64),\n",
       "        ('embarked', String)])"
      ]
     },
     "execution_count": 52,
     "metadata": {},
     "output_type": "execute_result"
    }
   ],
   "source": [
    "lf = lf.drop('parch')\n",
    "lf.collect_schema()"
   ]
  },
  {
   "cell_type": "markdown",
   "id": "29b0697d-78d2-419c-bf14-e4333abab60f",
   "metadata": {},
   "source": [
    "Заполним пропуски"
   ]
  },
  {
   "cell_type": "code",
   "execution_count": 53,
   "id": "d80fd42f-6a2c-43b8-838e-489c20e4320a",
   "metadata": {},
   "outputs": [],
   "source": [
    "lf = lf.drop_nulls(pl.col('embarked'))"
   ]
  },
  {
   "cell_type": "code",
   "execution_count": 54,
   "id": "e5c965a2-3da6-490f-868c-8f5f843bc254",
   "metadata": {},
   "outputs": [],
   "source": [
    "from sklearn.impute import KNNImputer"
   ]
  },
  {
   "cell_type": "code",
   "execution_count": 55,
   "id": "743c364e-3824-4012-8672-88b88195598c",
   "metadata": {},
   "outputs": [
    {
     "name": "stdout",
     "output_type": "stream",
     "text": [
      "['age', 'fare']\n"
     ]
    }
   ],
   "source": [
    "null_counts = lf.select(cs.numeric().null_count()).collect()\n",
    "colls_w_nulls = [col for col in null_counts.columns if null_counts[col][0] > 0]\n",
    "print(colls_w_nulls)"
   ]
  },
  {
   "cell_type": "code",
   "execution_count": 56,
   "id": "42139942-cb8d-4854-81f7-dbce4163bdc5",
   "metadata": {
    "scrolled": true
   },
   "outputs": [],
   "source": [
    "imputed_array = KNNImputer().fit_transform(lf.select(colls_w_nulls).collect().to_numpy())"
   ]
  },
  {
   "cell_type": "code",
   "execution_count": 57,
   "id": "48b26814-eece-4f31-b64e-e489b5cc1ee4",
   "metadata": {},
   "outputs": [],
   "source": [
    "lf = lf.collect().with_columns([\n",
    "    pl.Series(name=col, values=imputed_array[:, i]) for i, col in enumerate(colls_w_nulls)\n",
    "]).lazy()"
   ]
  },
  {
   "cell_type": "code",
   "execution_count": 58,
   "id": "b65d217a-6f45-4bcf-add3-9ed1cea987f4",
   "metadata": {},
   "outputs": [],
   "source": [
    "from sklearn.preprocessing import OneHotEncoder"
   ]
  },
  {
   "cell_type": "code",
   "execution_count": 59,
   "id": "c46ebba9-d346-4167-96d3-c70a913211c7",
   "metadata": {},
   "outputs": [
    {
     "data": {
      "text/html": [
       "<style>#sk-container-id-2 {\n",
       "  /* Definition of color scheme common for light and dark mode */\n",
       "  --sklearn-color-text: #000;\n",
       "  --sklearn-color-text-muted: #666;\n",
       "  --sklearn-color-line: gray;\n",
       "  /* Definition of color scheme for unfitted estimators */\n",
       "  --sklearn-color-unfitted-level-0: #fff5e6;\n",
       "  --sklearn-color-unfitted-level-1: #f6e4d2;\n",
       "  --sklearn-color-unfitted-level-2: #ffe0b3;\n",
       "  --sklearn-color-unfitted-level-3: chocolate;\n",
       "  /* Definition of color scheme for fitted estimators */\n",
       "  --sklearn-color-fitted-level-0: #f0f8ff;\n",
       "  --sklearn-color-fitted-level-1: #d4ebff;\n",
       "  --sklearn-color-fitted-level-2: #b3dbfd;\n",
       "  --sklearn-color-fitted-level-3: cornflowerblue;\n",
       "\n",
       "  /* Specific color for light theme */\n",
       "  --sklearn-color-text-on-default-background: var(--sg-text-color, var(--theme-code-foreground, var(--jp-content-font-color1, black)));\n",
       "  --sklearn-color-background: var(--sg-background-color, var(--theme-background, var(--jp-layout-color0, white)));\n",
       "  --sklearn-color-border-box: var(--sg-text-color, var(--theme-code-foreground, var(--jp-content-font-color1, black)));\n",
       "  --sklearn-color-icon: #696969;\n",
       "\n",
       "  @media (prefers-color-scheme: dark) {\n",
       "    /* Redefinition of color scheme for dark theme */\n",
       "    --sklearn-color-text-on-default-background: var(--sg-text-color, var(--theme-code-foreground, var(--jp-content-font-color1, white)));\n",
       "    --sklearn-color-background: var(--sg-background-color, var(--theme-background, var(--jp-layout-color0, #111)));\n",
       "    --sklearn-color-border-box: var(--sg-text-color, var(--theme-code-foreground, var(--jp-content-font-color1, white)));\n",
       "    --sklearn-color-icon: #878787;\n",
       "  }\n",
       "}\n",
       "\n",
       "#sk-container-id-2 {\n",
       "  color: var(--sklearn-color-text);\n",
       "}\n",
       "\n",
       "#sk-container-id-2 pre {\n",
       "  padding: 0;\n",
       "}\n",
       "\n",
       "#sk-container-id-2 input.sk-hidden--visually {\n",
       "  border: 0;\n",
       "  clip: rect(1px 1px 1px 1px);\n",
       "  clip: rect(1px, 1px, 1px, 1px);\n",
       "  height: 1px;\n",
       "  margin: -1px;\n",
       "  overflow: hidden;\n",
       "  padding: 0;\n",
       "  position: absolute;\n",
       "  width: 1px;\n",
       "}\n",
       "\n",
       "#sk-container-id-2 div.sk-dashed-wrapped {\n",
       "  border: 1px dashed var(--sklearn-color-line);\n",
       "  margin: 0 0.4em 0.5em 0.4em;\n",
       "  box-sizing: border-box;\n",
       "  padding-bottom: 0.4em;\n",
       "  background-color: var(--sklearn-color-background);\n",
       "}\n",
       "\n",
       "#sk-container-id-2 div.sk-container {\n",
       "  /* jupyter's `normalize.less` sets `[hidden] { display: none; }`\n",
       "     but bootstrap.min.css set `[hidden] { display: none !important; }`\n",
       "     so we also need the `!important` here to be able to override the\n",
       "     default hidden behavior on the sphinx rendered scikit-learn.org.\n",
       "     See: https://github.com/scikit-learn/scikit-learn/issues/21755 */\n",
       "  display: inline-block !important;\n",
       "  position: relative;\n",
       "}\n",
       "\n",
       "#sk-container-id-2 div.sk-text-repr-fallback {\n",
       "  display: none;\n",
       "}\n",
       "\n",
       "div.sk-parallel-item,\n",
       "div.sk-serial,\n",
       "div.sk-item {\n",
       "  /* draw centered vertical line to link estimators */\n",
       "  background-image: linear-gradient(var(--sklearn-color-text-on-default-background), var(--sklearn-color-text-on-default-background));\n",
       "  background-size: 2px 100%;\n",
       "  background-repeat: no-repeat;\n",
       "  background-position: center center;\n",
       "}\n",
       "\n",
       "/* Parallel-specific style estimator block */\n",
       "\n",
       "#sk-container-id-2 div.sk-parallel-item::after {\n",
       "  content: \"\";\n",
       "  width: 100%;\n",
       "  border-bottom: 2px solid var(--sklearn-color-text-on-default-background);\n",
       "  flex-grow: 1;\n",
       "}\n",
       "\n",
       "#sk-container-id-2 div.sk-parallel {\n",
       "  display: flex;\n",
       "  align-items: stretch;\n",
       "  justify-content: center;\n",
       "  background-color: var(--sklearn-color-background);\n",
       "  position: relative;\n",
       "}\n",
       "\n",
       "#sk-container-id-2 div.sk-parallel-item {\n",
       "  display: flex;\n",
       "  flex-direction: column;\n",
       "}\n",
       "\n",
       "#sk-container-id-2 div.sk-parallel-item:first-child::after {\n",
       "  align-self: flex-end;\n",
       "  width: 50%;\n",
       "}\n",
       "\n",
       "#sk-container-id-2 div.sk-parallel-item:last-child::after {\n",
       "  align-self: flex-start;\n",
       "  width: 50%;\n",
       "}\n",
       "\n",
       "#sk-container-id-2 div.sk-parallel-item:only-child::after {\n",
       "  width: 0;\n",
       "}\n",
       "\n",
       "/* Serial-specific style estimator block */\n",
       "\n",
       "#sk-container-id-2 div.sk-serial {\n",
       "  display: flex;\n",
       "  flex-direction: column;\n",
       "  align-items: center;\n",
       "  background-color: var(--sklearn-color-background);\n",
       "  padding-right: 1em;\n",
       "  padding-left: 1em;\n",
       "}\n",
       "\n",
       "\n",
       "/* Toggleable style: style used for estimator/Pipeline/ColumnTransformer box that is\n",
       "clickable and can be expanded/collapsed.\n",
       "- Pipeline and ColumnTransformer use this feature and define the default style\n",
       "- Estimators will overwrite some part of the style using the `sk-estimator` class\n",
       "*/\n",
       "\n",
       "/* Pipeline and ColumnTransformer style (default) */\n",
       "\n",
       "#sk-container-id-2 div.sk-toggleable {\n",
       "  /* Default theme specific background. It is overwritten whether we have a\n",
       "  specific estimator or a Pipeline/ColumnTransformer */\n",
       "  background-color: var(--sklearn-color-background);\n",
       "}\n",
       "\n",
       "/* Toggleable label */\n",
       "#sk-container-id-2 label.sk-toggleable__label {\n",
       "  cursor: pointer;\n",
       "  display: flex;\n",
       "  width: 100%;\n",
       "  margin-bottom: 0;\n",
       "  padding: 0.5em;\n",
       "  box-sizing: border-box;\n",
       "  text-align: center;\n",
       "  align-items: start;\n",
       "  justify-content: space-between;\n",
       "  gap: 0.5em;\n",
       "}\n",
       "\n",
       "#sk-container-id-2 label.sk-toggleable__label .caption {\n",
       "  font-size: 0.6rem;\n",
       "  font-weight: lighter;\n",
       "  color: var(--sklearn-color-text-muted);\n",
       "}\n",
       "\n",
       "#sk-container-id-2 label.sk-toggleable__label-arrow:before {\n",
       "  /* Arrow on the left of the label */\n",
       "  content: \"▸\";\n",
       "  float: left;\n",
       "  margin-right: 0.25em;\n",
       "  color: var(--sklearn-color-icon);\n",
       "}\n",
       "\n",
       "#sk-container-id-2 label.sk-toggleable__label-arrow:hover:before {\n",
       "  color: var(--sklearn-color-text);\n",
       "}\n",
       "\n",
       "/* Toggleable content - dropdown */\n",
       "\n",
       "#sk-container-id-2 div.sk-toggleable__content {\n",
       "  max-height: 0;\n",
       "  max-width: 0;\n",
       "  overflow: hidden;\n",
       "  text-align: left;\n",
       "  /* unfitted */\n",
       "  background-color: var(--sklearn-color-unfitted-level-0);\n",
       "}\n",
       "\n",
       "#sk-container-id-2 div.sk-toggleable__content.fitted {\n",
       "  /* fitted */\n",
       "  background-color: var(--sklearn-color-fitted-level-0);\n",
       "}\n",
       "\n",
       "#sk-container-id-2 div.sk-toggleable__content pre {\n",
       "  margin: 0.2em;\n",
       "  border-radius: 0.25em;\n",
       "  color: var(--sklearn-color-text);\n",
       "  /* unfitted */\n",
       "  background-color: var(--sklearn-color-unfitted-level-0);\n",
       "}\n",
       "\n",
       "#sk-container-id-2 div.sk-toggleable__content.fitted pre {\n",
       "  /* unfitted */\n",
       "  background-color: var(--sklearn-color-fitted-level-0);\n",
       "}\n",
       "\n",
       "#sk-container-id-2 input.sk-toggleable__control:checked~div.sk-toggleable__content {\n",
       "  /* Expand drop-down */\n",
       "  max-height: 200px;\n",
       "  max-width: 100%;\n",
       "  overflow: auto;\n",
       "}\n",
       "\n",
       "#sk-container-id-2 input.sk-toggleable__control:checked~label.sk-toggleable__label-arrow:before {\n",
       "  content: \"▾\";\n",
       "}\n",
       "\n",
       "/* Pipeline/ColumnTransformer-specific style */\n",
       "\n",
       "#sk-container-id-2 div.sk-label input.sk-toggleable__control:checked~label.sk-toggleable__label {\n",
       "  color: var(--sklearn-color-text);\n",
       "  background-color: var(--sklearn-color-unfitted-level-2);\n",
       "}\n",
       "\n",
       "#sk-container-id-2 div.sk-label.fitted input.sk-toggleable__control:checked~label.sk-toggleable__label {\n",
       "  background-color: var(--sklearn-color-fitted-level-2);\n",
       "}\n",
       "\n",
       "/* Estimator-specific style */\n",
       "\n",
       "/* Colorize estimator box */\n",
       "#sk-container-id-2 div.sk-estimator input.sk-toggleable__control:checked~label.sk-toggleable__label {\n",
       "  /* unfitted */\n",
       "  background-color: var(--sklearn-color-unfitted-level-2);\n",
       "}\n",
       "\n",
       "#sk-container-id-2 div.sk-estimator.fitted input.sk-toggleable__control:checked~label.sk-toggleable__label {\n",
       "  /* fitted */\n",
       "  background-color: var(--sklearn-color-fitted-level-2);\n",
       "}\n",
       "\n",
       "#sk-container-id-2 div.sk-label label.sk-toggleable__label,\n",
       "#sk-container-id-2 div.sk-label label {\n",
       "  /* The background is the default theme color */\n",
       "  color: var(--sklearn-color-text-on-default-background);\n",
       "}\n",
       "\n",
       "/* On hover, darken the color of the background */\n",
       "#sk-container-id-2 div.sk-label:hover label.sk-toggleable__label {\n",
       "  color: var(--sklearn-color-text);\n",
       "  background-color: var(--sklearn-color-unfitted-level-2);\n",
       "}\n",
       "\n",
       "/* Label box, darken color on hover, fitted */\n",
       "#sk-container-id-2 div.sk-label.fitted:hover label.sk-toggleable__label.fitted {\n",
       "  color: var(--sklearn-color-text);\n",
       "  background-color: var(--sklearn-color-fitted-level-2);\n",
       "}\n",
       "\n",
       "/* Estimator label */\n",
       "\n",
       "#sk-container-id-2 div.sk-label label {\n",
       "  font-family: monospace;\n",
       "  font-weight: bold;\n",
       "  display: inline-block;\n",
       "  line-height: 1.2em;\n",
       "}\n",
       "\n",
       "#sk-container-id-2 div.sk-label-container {\n",
       "  text-align: center;\n",
       "}\n",
       "\n",
       "/* Estimator-specific */\n",
       "#sk-container-id-2 div.sk-estimator {\n",
       "  font-family: monospace;\n",
       "  border: 1px dotted var(--sklearn-color-border-box);\n",
       "  border-radius: 0.25em;\n",
       "  box-sizing: border-box;\n",
       "  margin-bottom: 0.5em;\n",
       "  /* unfitted */\n",
       "  background-color: var(--sklearn-color-unfitted-level-0);\n",
       "}\n",
       "\n",
       "#sk-container-id-2 div.sk-estimator.fitted {\n",
       "  /* fitted */\n",
       "  background-color: var(--sklearn-color-fitted-level-0);\n",
       "}\n",
       "\n",
       "/* on hover */\n",
       "#sk-container-id-2 div.sk-estimator:hover {\n",
       "  /* unfitted */\n",
       "  background-color: var(--sklearn-color-unfitted-level-2);\n",
       "}\n",
       "\n",
       "#sk-container-id-2 div.sk-estimator.fitted:hover {\n",
       "  /* fitted */\n",
       "  background-color: var(--sklearn-color-fitted-level-2);\n",
       "}\n",
       "\n",
       "/* Specification for estimator info (e.g. \"i\" and \"?\") */\n",
       "\n",
       "/* Common style for \"i\" and \"?\" */\n",
       "\n",
       ".sk-estimator-doc-link,\n",
       "a:link.sk-estimator-doc-link,\n",
       "a:visited.sk-estimator-doc-link {\n",
       "  float: right;\n",
       "  font-size: smaller;\n",
       "  line-height: 1em;\n",
       "  font-family: monospace;\n",
       "  background-color: var(--sklearn-color-background);\n",
       "  border-radius: 1em;\n",
       "  height: 1em;\n",
       "  width: 1em;\n",
       "  text-decoration: none !important;\n",
       "  margin-left: 0.5em;\n",
       "  text-align: center;\n",
       "  /* unfitted */\n",
       "  border: var(--sklearn-color-unfitted-level-1) 1pt solid;\n",
       "  color: var(--sklearn-color-unfitted-level-1);\n",
       "}\n",
       "\n",
       ".sk-estimator-doc-link.fitted,\n",
       "a:link.sk-estimator-doc-link.fitted,\n",
       "a:visited.sk-estimator-doc-link.fitted {\n",
       "  /* fitted */\n",
       "  border: var(--sklearn-color-fitted-level-1) 1pt solid;\n",
       "  color: var(--sklearn-color-fitted-level-1);\n",
       "}\n",
       "\n",
       "/* On hover */\n",
       "div.sk-estimator:hover .sk-estimator-doc-link:hover,\n",
       ".sk-estimator-doc-link:hover,\n",
       "div.sk-label-container:hover .sk-estimator-doc-link:hover,\n",
       ".sk-estimator-doc-link:hover {\n",
       "  /* unfitted */\n",
       "  background-color: var(--sklearn-color-unfitted-level-3);\n",
       "  color: var(--sklearn-color-background);\n",
       "  text-decoration: none;\n",
       "}\n",
       "\n",
       "div.sk-estimator.fitted:hover .sk-estimator-doc-link.fitted:hover,\n",
       ".sk-estimator-doc-link.fitted:hover,\n",
       "div.sk-label-container:hover .sk-estimator-doc-link.fitted:hover,\n",
       ".sk-estimator-doc-link.fitted:hover {\n",
       "  /* fitted */\n",
       "  background-color: var(--sklearn-color-fitted-level-3);\n",
       "  color: var(--sklearn-color-background);\n",
       "  text-decoration: none;\n",
       "}\n",
       "\n",
       "/* Span, style for the box shown on hovering the info icon */\n",
       ".sk-estimator-doc-link span {\n",
       "  display: none;\n",
       "  z-index: 9999;\n",
       "  position: relative;\n",
       "  font-weight: normal;\n",
       "  right: .2ex;\n",
       "  padding: .5ex;\n",
       "  margin: .5ex;\n",
       "  width: min-content;\n",
       "  min-width: 20ex;\n",
       "  max-width: 50ex;\n",
       "  color: var(--sklearn-color-text);\n",
       "  box-shadow: 2pt 2pt 4pt #999;\n",
       "  /* unfitted */\n",
       "  background: var(--sklearn-color-unfitted-level-0);\n",
       "  border: .5pt solid var(--sklearn-color-unfitted-level-3);\n",
       "}\n",
       "\n",
       ".sk-estimator-doc-link.fitted span {\n",
       "  /* fitted */\n",
       "  background: var(--sklearn-color-fitted-level-0);\n",
       "  border: var(--sklearn-color-fitted-level-3);\n",
       "}\n",
       "\n",
       ".sk-estimator-doc-link:hover span {\n",
       "  display: block;\n",
       "}\n",
       "\n",
       "/* \"?\"-specific style due to the `<a>` HTML tag */\n",
       "\n",
       "#sk-container-id-2 a.estimator_doc_link {\n",
       "  float: right;\n",
       "  font-size: 1rem;\n",
       "  line-height: 1em;\n",
       "  font-family: monospace;\n",
       "  background-color: var(--sklearn-color-background);\n",
       "  border-radius: 1rem;\n",
       "  height: 1rem;\n",
       "  width: 1rem;\n",
       "  text-decoration: none;\n",
       "  /* unfitted */\n",
       "  color: var(--sklearn-color-unfitted-level-1);\n",
       "  border: var(--sklearn-color-unfitted-level-1) 1pt solid;\n",
       "}\n",
       "\n",
       "#sk-container-id-2 a.estimator_doc_link.fitted {\n",
       "  /* fitted */\n",
       "  border: var(--sklearn-color-fitted-level-1) 1pt solid;\n",
       "  color: var(--sklearn-color-fitted-level-1);\n",
       "}\n",
       "\n",
       "/* On hover */\n",
       "#sk-container-id-2 a.estimator_doc_link:hover {\n",
       "  /* unfitted */\n",
       "  background-color: var(--sklearn-color-unfitted-level-3);\n",
       "  color: var(--sklearn-color-background);\n",
       "  text-decoration: none;\n",
       "}\n",
       "\n",
       "#sk-container-id-2 a.estimator_doc_link.fitted:hover {\n",
       "  /* fitted */\n",
       "  background-color: var(--sklearn-color-fitted-level-3);\n",
       "}\n",
       "</style><div id=\"sk-container-id-2\" class=\"sk-top-container\"><div class=\"sk-text-repr-fallback\"><pre>OneHotEncoder()</pre><b>In a Jupyter environment, please rerun this cell to show the HTML representation or trust the notebook. <br />On GitHub, the HTML representation is unable to render, please try loading this page with nbviewer.org.</b></div><div class=\"sk-container\" hidden><div class=\"sk-item\"><div class=\"sk-estimator fitted sk-toggleable\"><input class=\"sk-toggleable__control sk-hidden--visually\" id=\"sk-estimator-id-2\" type=\"checkbox\" checked><label for=\"sk-estimator-id-2\" class=\"sk-toggleable__label fitted sk-toggleable__label-arrow\"><div><div>OneHotEncoder</div></div><div><a class=\"sk-estimator-doc-link fitted\" rel=\"noreferrer\" target=\"_blank\" href=\"https://scikit-learn.org/1.6/modules/generated/sklearn.preprocessing.OneHotEncoder.html\">?<span>Documentation for OneHotEncoder</span></a><span class=\"sk-estimator-doc-link fitted\">i<span>Fitted</span></span></div></label><div class=\"sk-toggleable__content fitted\"><pre>OneHotEncoder()</pre></div> </div></div></div></div>"
      ],
      "text/plain": [
       "OneHotEncoder()"
      ]
     },
     "execution_count": 59,
     "metadata": {},
     "output_type": "execute_result"
    }
   ],
   "source": [
    "ohe = OneHotEncoder()\n",
    "ohe.fit(lf.select(pl.col('pclass', 'sex', 'sibsp', 'embarked')).collect())"
   ]
  },
  {
   "cell_type": "markdown",
   "id": "465f5b4d-2f3b-4dc1-a504-71125b7a753b",
   "metadata": {},
   "source": [
    "Составить результативный датасет (отбросив колонки Pclass_2, sex_male, sibsp_0, embarked_S) и построить по нему модель"
   ]
  },
  {
   "cell_type": "code",
   "execution_count": 60,
   "id": "97a62506-c461-4a84-8233-a78d1ce9a258",
   "metadata": {},
   "outputs": [],
   "source": [
    "res_matrix = ohe.transform(lf.select(pl.col('pclass', 'sex', 'sibsp', 'embarked')).collect())"
   ]
  },
  {
   "cell_type": "code",
   "execution_count": 61,
   "id": "de182208-fd97-4343-b8ab-5caff35e2f6e",
   "metadata": {},
   "outputs": [
    {
     "data": {
      "text/plain": [
       "(418, 11)"
      ]
     },
     "execution_count": 61,
     "metadata": {},
     "output_type": "execute_result"
    }
   ],
   "source": [
    "res_matrix.toarray().shape"
   ]
  },
  {
   "cell_type": "code",
   "execution_count": 62,
   "id": "b91d66d9-2e0f-4ba4-b7f6-35d65bf32125",
   "metadata": {},
   "outputs": [],
   "source": [
    "lf_fin = lf.with_columns(\n",
    "    [pl.Series(name, row, pl.Int8) for name, row in zip(ohe.get_feature_names_out(), res_matrix.toarray().T)]\n",
    ")"
   ]
  },
  {
   "cell_type": "code",
   "execution_count": 63,
   "id": "8f350b5e-f210-4867-8bb3-7b42c551f157",
   "metadata": {},
   "outputs": [
    {
     "data": {
      "text/html": [
       "<div><style>\n",
       ".dataframe > thead > tr,\n",
       ".dataframe > tbody > tr {\n",
       "  text-align: right;\n",
       "  white-space: pre-wrap;\n",
       "}\n",
       "</style>\n",
       "<small>shape: (5, 9)</small><table border=\"1\" class=\"dataframe\"><thead><tr><th>age</th><th>fare</th><th>pclass_1</th><th>pclass_3</th><th>sex_female</th><th>sibsp_1</th><th>sibsp_2</th><th>embarked_C</th><th>embarked_Q</th></tr><tr><td>f64</td><td>f64</td><td>i8</td><td>i8</td><td>i8</td><td>i8</td><td>i8</td><td>i8</td><td>i8</td></tr></thead><tbody><tr><td>34.5</td><td>7.8292</td><td>0</td><td>1</td><td>0</td><td>0</td><td>0</td><td>0</td><td>1</td></tr><tr><td>47.0</td><td>7.0</td><td>0</td><td>1</td><td>1</td><td>1</td><td>0</td><td>0</td><td>0</td></tr><tr><td>62.0</td><td>9.6875</td><td>0</td><td>0</td><td>0</td><td>0</td><td>0</td><td>0</td><td>1</td></tr><tr><td>27.0</td><td>8.6625</td><td>0</td><td>1</td><td>0</td><td>0</td><td>0</td><td>0</td><td>0</td></tr><tr><td>22.0</td><td>12.2875</td><td>0</td><td>1</td><td>1</td><td>1</td><td>0</td><td>0</td><td>0</td></tr></tbody></table></div>"
      ],
      "text/plain": [
       "shape: (5, 9)\n",
       "┌──────┬─────────┬──────────┬──────────┬───┬─────────┬─────────┬────────────┬────────────┐\n",
       "│ age  ┆ fare    ┆ pclass_1 ┆ pclass_3 ┆ … ┆ sibsp_1 ┆ sibsp_2 ┆ embarked_C ┆ embarked_Q │\n",
       "│ ---  ┆ ---     ┆ ---      ┆ ---      ┆   ┆ ---     ┆ ---     ┆ ---        ┆ ---        │\n",
       "│ f64  ┆ f64     ┆ i8       ┆ i8       ┆   ┆ i8      ┆ i8      ┆ i8         ┆ i8         │\n",
       "╞══════╪═════════╪══════════╪══════════╪═══╪═════════╪═════════╪════════════╪════════════╡\n",
       "│ 34.5 ┆ 7.8292  ┆ 0        ┆ 1        ┆ … ┆ 0       ┆ 0       ┆ 0          ┆ 1          │\n",
       "│ 47.0 ┆ 7.0     ┆ 0        ┆ 1        ┆ … ┆ 1       ┆ 0       ┆ 0          ┆ 0          │\n",
       "│ 62.0 ┆ 9.6875  ┆ 0        ┆ 0        ┆ … ┆ 0       ┆ 0       ┆ 0          ┆ 1          │\n",
       "│ 27.0 ┆ 8.6625  ┆ 0        ┆ 1        ┆ … ┆ 0       ┆ 0       ┆ 0          ┆ 0          │\n",
       "│ 22.0 ┆ 12.2875 ┆ 0        ┆ 1        ┆ … ┆ 1       ┆ 0       ┆ 0          ┆ 0          │\n",
       "└──────┴─────────┴──────────┴──────────┴───┴─────────┴─────────┴────────────┴────────────┘"
      ]
     },
     "execution_count": 63,
     "metadata": {},
     "output_type": "execute_result"
    }
   ],
   "source": [
    "lf_fin = lf_fin.drop(pl.col('pclass', 'sex', 'sibsp', 'embarked', 'pclass_2', 'sex_male', 'sibsp_0', 'embarked_S'))\n",
    "lf_fin.head().collect()"
   ]
  },
  {
   "cell_type": "code",
   "execution_count": 64,
   "id": "3ef26919-83ab-4239-bc5c-9b405f49f4ac",
   "metadata": {},
   "outputs": [
    {
     "data": {
      "text/html": [
       "<div><style>\n",
       ".dataframe > thead > tr,\n",
       ".dataframe > tbody > tr {\n",
       "  text-align: right;\n",
       "  white-space: pre-wrap;\n",
       "}\n",
       "</style>\n",
       "<small>shape: (9, 10)</small><table border=\"1\" class=\"dataframe\"><thead><tr><th>statistic</th><th>age</th><th>fare</th><th>pclass_1</th><th>pclass_3</th><th>sex_female</th><th>sibsp_1</th><th>sibsp_2</th><th>embarked_C</th><th>embarked_Q</th></tr><tr><td>str</td><td>f64</td><td>f64</td><td>f64</td><td>f64</td><td>f64</td><td>f64</td><td>f64</td><td>f64</td><td>f64</td></tr></thead><tbody><tr><td>&quot;count&quot;</td><td>418.0</td><td>418.0</td><td>418.0</td><td>418.0</td><td>418.0</td><td>418.0</td><td>418.0</td><td>418.0</td><td>418.0</td></tr><tr><td>&quot;null_count&quot;</td><td>0.0</td><td>0.0</td><td>0.0</td><td>0.0</td><td>0.0</td><td>0.0</td><td>0.0</td><td>0.0</td><td>0.0</td></tr><tr><td>&quot;mean&quot;</td><td>29.62567</td><td>29.764232</td><td>0.255981</td><td>0.521531</td><td>0.363636</td><td>0.263158</td><td>0.059809</td><td>0.244019</td><td>0.110048</td></tr><tr><td>&quot;std&quot;</td><td>12.826393</td><td>33.334709</td><td>0.436934</td><td>0.500135</td><td>0.481622</td><td>0.440875</td><td>0.237416</td><td>0.430019</td><td>0.313324</td></tr><tr><td>&quot;min&quot;</td><td>0.17</td><td>0.0</td><td>0.0</td><td>0.0</td><td>0.0</td><td>0.0</td><td>0.0</td><td>0.0</td><td>0.0</td></tr><tr><td>&quot;25%&quot;</td><td>22.0</td><td>7.8958</td><td>0.0</td><td>0.0</td><td>0.0</td><td>0.0</td><td>0.0</td><td>0.0</td><td>0.0</td></tr><tr><td>&quot;50%&quot;</td><td>27.0</td><td>14.4542</td><td>0.0</td><td>1.0</td><td>0.0</td><td>0.0</td><td>0.0</td><td>0.0</td><td>0.0</td></tr><tr><td>&quot;75%&quot;</td><td>36.0</td><td>31.5</td><td>1.0</td><td>1.0</td><td>1.0</td><td>1.0</td><td>0.0</td><td>0.0</td><td>0.0</td></tr><tr><td>&quot;max&quot;</td><td>66.0</td><td>125.9168</td><td>1.0</td><td>1.0</td><td>1.0</td><td>1.0</td><td>1.0</td><td>1.0</td><td>1.0</td></tr></tbody></table></div>"
      ],
      "text/plain": [
       "shape: (9, 10)\n",
       "┌────────────┬───────────┬───────────┬──────────┬───┬──────────┬──────────┬────────────┬────────────┐\n",
       "│ statistic  ┆ age       ┆ fare      ┆ pclass_1 ┆ … ┆ sibsp_1  ┆ sibsp_2  ┆ embarked_C ┆ embarked_Q │\n",
       "│ ---        ┆ ---       ┆ ---       ┆ ---      ┆   ┆ ---      ┆ ---      ┆ ---        ┆ ---        │\n",
       "│ str        ┆ f64       ┆ f64       ┆ f64      ┆   ┆ f64      ┆ f64      ┆ f64        ┆ f64        │\n",
       "╞════════════╪═══════════╪═══════════╪══════════╪═══╪══════════╪══════════╪════════════╪════════════╡\n",
       "│ count      ┆ 418.0     ┆ 418.0     ┆ 418.0    ┆ … ┆ 418.0    ┆ 418.0    ┆ 418.0      ┆ 418.0      │\n",
       "│ null_count ┆ 0.0       ┆ 0.0       ┆ 0.0      ┆ … ┆ 0.0      ┆ 0.0      ┆ 0.0        ┆ 0.0        │\n",
       "│ mean       ┆ 29.62567  ┆ 29.764232 ┆ 0.255981 ┆ … ┆ 0.263158 ┆ 0.059809 ┆ 0.244019   ┆ 0.110048   │\n",
       "│ std        ┆ 12.826393 ┆ 33.334709 ┆ 0.436934 ┆ … ┆ 0.440875 ┆ 0.237416 ┆ 0.430019   ┆ 0.313324   │\n",
       "│ min        ┆ 0.17      ┆ 0.0       ┆ 0.0      ┆ … ┆ 0.0      ┆ 0.0      ┆ 0.0        ┆ 0.0        │\n",
       "│ 25%        ┆ 22.0      ┆ 7.8958    ┆ 0.0      ┆ … ┆ 0.0      ┆ 0.0      ┆ 0.0        ┆ 0.0        │\n",
       "│ 50%        ┆ 27.0      ┆ 14.4542   ┆ 0.0      ┆ … ┆ 0.0      ┆ 0.0      ┆ 0.0        ┆ 0.0        │\n",
       "│ 75%        ┆ 36.0      ┆ 31.5      ┆ 1.0      ┆ … ┆ 1.0      ┆ 0.0      ┆ 0.0        ┆ 0.0        │\n",
       "│ max        ┆ 66.0      ┆ 125.9168  ┆ 1.0      ┆ … ┆ 1.0      ┆ 1.0      ┆ 1.0        ┆ 1.0        │\n",
       "└────────────┴───────────┴───────────┴──────────┴───┴──────────┴──────────┴────────────┴────────────┘"
      ]
     },
     "execution_count": 64,
     "metadata": {},
     "output_type": "execute_result"
    }
   ],
   "source": [
    "lf_fin.describe()"
   ]
  },
  {
   "cell_type": "code",
   "execution_count": 65,
   "id": "d85967f1-84d7-46b8-b1bc-8189462d9995",
   "metadata": {},
   "outputs": [],
   "source": [
    "np.save('./data/test.npy', lf_fin.collect().to_numpy())"
   ]
  }
 ],
 "metadata": {
  "kernelspec": {
   "display_name": "Python 3 (ipykernel)",
   "language": "python",
   "name": "python3"
  },
  "language_info": {
   "codemirror_mode": {
    "name": "ipython",
    "version": 3
   },
   "file_extension": ".py",
   "mimetype": "text/x-python",
   "name": "python",
   "nbconvert_exporter": "python",
   "pygments_lexer": "ipython3",
   "version": "3.12.11"
  }
 },
 "nbformat": 4,
 "nbformat_minor": 5
}
