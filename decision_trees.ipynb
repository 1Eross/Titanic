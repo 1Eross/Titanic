{
 "cells": [
  {
   "cell_type": "code",
   "execution_count": null,
   "id": "99275886-fc78-49c8-bd4e-31753c49ca0b",
   "metadata": {},
   "outputs": [],
   "source": [
    "class DecisionTreeClassifier():\n",
    "    def __init__(self):\n",
    "        pass\n",
    "\n",
    "    def __loss(self):\n",
    "        pass\n",
    "    \n",
    "    def __split_node(self):\n",
    "        pass\n",
    "        \n",
    "    def fit(self, X:np.ndarray):\n",
    "        self.X = X\n",
    "        self.thresholds = []\n",
    "        self.features = []\n",
    "        \n",
    "    def predict(self):\n",
    "        pass"
   ]
  },
  {
   "cell_type": "code",
   "execution_count": null,
   "id": "672472af-e502-4d85-8e3f-6212dc6e4cf0",
   "metadata": {},
   "outputs": [],
   "source": []
  }
 ],
 "metadata": {
  "kernelspec": {
   "display_name": "Python 3 (ipykernel)",
   "language": "python",
   "name": "python3"
  },
  "language_info": {
   "codemirror_mode": {
    "name": "ipython",
    "version": 3
   },
   "file_extension": ".py",
   "mimetype": "text/x-python",
   "name": "python",
   "nbconvert_exporter": "python",
   "pygments_lexer": "ipython3",
   "version": "3.12.11"
  }
 },
 "nbformat": 4,
 "nbformat_minor": 5
}
